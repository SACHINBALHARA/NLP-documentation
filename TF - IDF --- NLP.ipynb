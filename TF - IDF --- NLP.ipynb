{
 "cells": [
  {
   "cell_type": "code",
   "execution_count": 2,
   "id": "49152bbc",
   "metadata": {},
   "outputs": [],
   "source": [
    "from sklearn.feature_extraction.text import TfidfVectorizer"
   ]
  },
  {
   "cell_type": "code",
   "execution_count": 3,
   "id": "b68783ec",
   "metadata": {},
   "outputs": [],
   "source": [
    "doc=[\"In his reply to a no-confidence motion in Parliament earlier this week\",\n",
    "     \" the Prime Minister had referred to Operation Blue Star as an “attack on the Akal Takht” .\",\n",
    "     \"the highest temporal body of the Sikhs. Modi was criticising the Congress government\",\n",
    "     \"led by Prime Minister Indira Gandhi who had, in 1984, ordered the Indian Army to enter\",\n",
    "     \"the precincts of the Golden Temple in Amritsar to flush out Sikh militants.\",\n",
    "     \"For the Sikhs, this was considered to be an act of sacrilege and the defiling of their holiest shrines.\"]"
   ]
  },
  {
   "cell_type": "code",
   "execution_count": 5,
   "id": "5b1fe83d",
   "metadata": {},
   "outputs": [],
   "source": [
    "tv=TfidfVectorizer()"
   ]
  },
  {
   "cell_type": "code",
   "execution_count": 7,
   "id": "968932bb",
   "metadata": {},
   "outputs": [
    {
     "data": {
      "text/plain": [
       "<6x63 sparse matrix of type '<class 'numpy.float64'>'\n",
       "\twith 82 stored elements in Compressed Sparse Row format>"
      ]
     },
     "execution_count": 7,
     "metadata": {},
     "output_type": "execute_result"
    }
   ],
   "source": [
    "transformed_output=tv.fit_transform(doc)\n",
    "transformed_output"
   ]
  },
  {
   "cell_type": "code",
   "execution_count": 10,
   "id": "fec4fa74",
   "metadata": {},
   "outputs": [
    {
     "name": "stdout",
     "output_type": "stream",
     "text": [
      "{'in': 29, 'his': 27, 'reply': 47, 'to': 59, 'no': 37, 'confidence': 13, 'motion': 36, 'parliament': 43, 'earlier': 18, 'this': 58, 'week': 61, 'the': 56, 'prime': 45, 'minister': 34, 'had': 25, 'referred': 46, 'operation': 40, 'blue': 10, 'star': 52, 'as': 7, 'an': 4, 'attack': 8, 'on': 39, 'akal': 2, 'takht': 53, 'highest': 26, 'temporal': 55, 'body': 11, 'of': 38, 'sikhs': 51, 'modi': 35, 'was': 60, 'criticising': 16, 'congress': 14, 'government': 24, 'led': 32, 'by': 12, 'indira': 31, 'gandhi': 22, 'who': 62, '1984': 0, 'ordered': 41, 'indian': 30, 'army': 6, 'enter': 19, 'precincts': 44, 'golden': 23, 'temple': 54, 'amritsar': 3, 'flush': 20, 'out': 42, 'sikh': 50, 'militants': 33, 'for': 21, 'considered': 15, 'be': 9, 'act': 1, 'sacrilege': 48, 'and': 5, 'defiling': 17, 'their': 57, 'holiest': 28, 'shrines': 49}\n"
     ]
    }
   ],
   "source": [
    "print(tv.vocabulary_)"
   ]
  },
  {
   "cell_type": "code",
   "execution_count": 14,
   "id": "89dde031",
   "metadata": {},
   "outputs": [],
   "source": [
    "all_features_names=tv.get_feature_names_out()"
   ]
  },
  {
   "cell_type": "code",
   "execution_count": 16,
   "id": "13afb218",
   "metadata": {
    "collapsed": true,
    "jupyter": {
     "outputs_hidden": true
    }
   },
   "outputs": [
    {
     "name": "stdout",
     "output_type": "stream",
     "text": [
      "2.252762968495368\n",
      "2.252762968495368\n",
      "2.252762968495368\n",
      "2.252762968495368\n",
      "1.8472978603872037\n",
      "2.252762968495368\n",
      "2.252762968495368\n",
      "2.252762968495368\n",
      "2.252762968495368\n",
      "2.252762968495368\n",
      "2.252762968495368\n",
      "2.252762968495368\n",
      "2.252762968495368\n",
      "2.252762968495368\n",
      "2.252762968495368\n",
      "2.252762968495368\n",
      "2.252762968495368\n",
      "2.252762968495368\n",
      "2.252762968495368\n",
      "2.252762968495368\n",
      "2.252762968495368\n",
      "2.252762968495368\n",
      "2.252762968495368\n",
      "2.252762968495368\n",
      "2.252762968495368\n",
      "1.8472978603872037\n",
      "2.252762968495368\n",
      "2.252762968495368\n",
      "2.252762968495368\n",
      "1.5596157879354227\n",
      "2.252762968495368\n",
      "2.252762968495368\n",
      "2.252762968495368\n",
      "2.252762968495368\n",
      "1.8472978603872037\n",
      "2.252762968495368\n",
      "2.252762968495368\n",
      "2.252762968495368\n",
      "1.5596157879354227\n",
      "2.252762968495368\n",
      "2.252762968495368\n",
      "2.252762968495368\n",
      "2.252762968495368\n",
      "2.252762968495368\n",
      "2.252762968495368\n",
      "1.8472978603872037\n",
      "2.252762968495368\n",
      "2.252762968495368\n",
      "2.252762968495368\n",
      "2.252762968495368\n",
      "2.252762968495368\n",
      "1.8472978603872037\n",
      "2.252762968495368\n",
      "2.252762968495368\n",
      "2.252762968495368\n",
      "2.252762968495368\n",
      "1.1541506798272583\n",
      "2.252762968495368\n",
      "1.8472978603872037\n",
      "1.1541506798272583\n",
      "1.8472978603872037\n",
      "2.252762968495368\n",
      "2.252762968495368\n"
     ]
    }
   ],
   "source": [
    "for word in all_features_names:\n",
    "    index=tv.vocabulary_.get(word)\n",
    "    print(tv.idf_[index])\n",
    "    "
   ]
  },
  {
   "cell_type": "code",
   "execution_count": 25,
   "id": "6d6083e2",
   "metadata": {
    "scrolled": true
   },
   "outputs": [
    {
     "name": "stdout",
     "output_type": "stream",
     "text": [
      "1984    2.252762968495368\n",
      "act    2.252762968495368\n",
      "akal    2.252762968495368\n",
      "amritsar    2.252762968495368\n",
      "an    1.8472978603872037\n",
      "and    2.252762968495368\n",
      "army    2.252762968495368\n",
      "as    2.252762968495368\n",
      "attack    2.252762968495368\n",
      "be    2.252762968495368\n",
      "blue    2.252762968495368\n",
      "body    2.252762968495368\n",
      "by    2.252762968495368\n",
      "confidence    2.252762968495368\n",
      "congress    2.252762968495368\n",
      "considered    2.252762968495368\n",
      "criticising    2.252762968495368\n",
      "defiling    2.252762968495368\n",
      "earlier    2.252762968495368\n",
      "enter    2.252762968495368\n",
      "flush    2.252762968495368\n",
      "for    2.252762968495368\n",
      "gandhi    2.252762968495368\n",
      "golden    2.252762968495368\n",
      "government    2.252762968495368\n",
      "had    1.8472978603872037\n",
      "highest    2.252762968495368\n",
      "his    2.252762968495368\n",
      "holiest    2.252762968495368\n",
      "in    1.5596157879354227\n",
      "indian    2.252762968495368\n",
      "indira    2.252762968495368\n",
      "led    2.252762968495368\n",
      "militants    2.252762968495368\n",
      "minister    1.8472978603872037\n",
      "modi    2.252762968495368\n",
      "motion    2.252762968495368\n",
      "no    2.252762968495368\n",
      "of    1.5596157879354227\n",
      "on    2.252762968495368\n",
      "operation    2.252762968495368\n",
      "ordered    2.252762968495368\n",
      "out    2.252762968495368\n",
      "parliament    2.252762968495368\n",
      "precincts    2.252762968495368\n",
      "prime    1.8472978603872037\n",
      "referred    2.252762968495368\n",
      "reply    2.252762968495368\n",
      "sacrilege    2.252762968495368\n",
      "shrines    2.252762968495368\n",
      "sikh    2.252762968495368\n",
      "sikhs    1.8472978603872037\n",
      "star    2.252762968495368\n",
      "takht    2.252762968495368\n",
      "temple    2.252762968495368\n",
      "temporal    2.252762968495368\n",
      "the    1.1541506798272583\n",
      "their    2.252762968495368\n",
      "this    1.8472978603872037\n",
      "to    1.1541506798272583\n",
      "was    1.8472978603872037\n",
      "week    2.252762968495368\n",
      "who    2.252762968495368\n"
     ]
    }
   ],
   "source": [
    "for word in all_features_names:\n",
    "    index=tv.vocabulary_.get(word)\n",
    "    print(f\"{word}    {tv.idf_[index]}\")"
   ]
  },
  {
   "cell_type": "code",
   "execution_count": 27,
   "id": "292f9258",
   "metadata": {},
   "outputs": [
    {
     "data": {
      "text/plain": [
       "['In his reply to a no-confidence motion in Parliament earlier this week',\n",
       " ' the Prime Minister had referred to Operation Blue Star as an “attack on the Akal Takht” .',\n",
       " 'the highest temporal body of the Sikhs. Modi was criticising the Congress government']"
      ]
     },
     "execution_count": 27,
     "metadata": {},
     "output_type": "execute_result"
    }
   ],
   "source": [
    "doc[:3]"
   ]
  },
  {
   "cell_type": "code",
   "execution_count": 30,
   "id": "40285c85",
   "metadata": {},
   "outputs": [
    {
     "data": {
      "text/plain": [
       "array([[0.        , 0.        , 0.        , 0.        , 0.        ,\n",
       "        0.        , 0.        , 0.        , 0.        , 0.        ,\n",
       "        0.        , 0.        , 0.        , 0.30355916, 0.        ,\n",
       "        0.        , 0.        , 0.        , 0.30355916, 0.        ,\n",
       "        0.        , 0.        , 0.        , 0.        , 0.        ,\n",
       "        0.        , 0.        , 0.30355916, 0.        , 0.42031556,\n",
       "        0.        , 0.        , 0.        , 0.        , 0.        ,\n",
       "        0.        , 0.30355916, 0.30355916, 0.        , 0.        ,\n",
       "        0.        , 0.        , 0.        , 0.30355916, 0.        ,\n",
       "        0.        , 0.        , 0.30355916, 0.        , 0.        ,\n",
       "        0.        , 0.        , 0.        , 0.        , 0.        ,\n",
       "        0.        , 0.        , 0.        , 0.24892285, 0.15552147,\n",
       "        0.        , 0.30355916, 0.        ],\n",
       "       [0.        , 0.        , 0.27732784, 0.        , 0.22741279,\n",
       "        0.        , 0.        , 0.27732784, 0.27732784, 0.        ,\n",
       "        0.27732784, 0.        , 0.        , 0.        , 0.        ,\n",
       "        0.        , 0.        , 0.        , 0.        , 0.        ,\n",
       "        0.        , 0.        , 0.        , 0.        , 0.        ,\n",
       "        0.22741279, 0.        , 0.        , 0.        , 0.        ,\n",
       "        0.        , 0.        , 0.        , 0.        , 0.22741279,\n",
       "        0.        , 0.        , 0.        , 0.        , 0.27732784,\n",
       "        0.27732784, 0.        , 0.        , 0.        , 0.        ,\n",
       "        0.22741279, 0.27732784, 0.        , 0.        , 0.        ,\n",
       "        0.        , 0.        , 0.27732784, 0.27732784, 0.        ,\n",
       "        0.        , 0.28416493, 0.        , 0.        , 0.14208246,\n",
       "        0.        , 0.        , 0.        ]])"
      ]
     },
     "execution_count": 30,
     "metadata": {},
     "output_type": "execute_result"
    }
   ],
   "source": [
    "transformed_output.toarray()[:2]"
   ]
  },
  {
   "cell_type": "code",
   "execution_count": null,
   "id": "6134f717",
   "metadata": {},
   "outputs": [],
   "source": []
  }
 ],
 "metadata": {
  "kernelspec": {
   "display_name": "Python 3 (ipykernel)",
   "language": "python",
   "name": "python3"
  },
  "language_info": {
   "codemirror_mode": {
    "name": "ipython",
    "version": 3
   },
   "file_extension": ".py",
   "mimetype": "text/x-python",
   "name": "python",
   "nbconvert_exporter": "python",
   "pygments_lexer": "ipython3",
   "version": "3.12.1"
  }
 },
 "nbformat": 4,
 "nbformat_minor": 5
}
