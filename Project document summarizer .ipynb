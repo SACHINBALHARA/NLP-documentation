{
 "cells": [
  {
   "cell_type": "code",
   "execution_count": 2,
   "id": "6c5efd05",
   "metadata": {},
   "outputs": [
    {
     "name": "stdout",
     "output_type": "stream",
     "text": [
      "Defaulting to user installation because normal site-packages is not writeable\n",
      "Requirement already satisfied: pyPDF2 in c:\\users\\sachin\\appdata\\roaming\\python\\python39\\site-packages (3.0.1)\n",
      "Requirement already satisfied: typing_extensions>=3.10.0.0 in c:\\users\\sachin\\appdata\\roaming\\python\\python39\\site-packages (from pyPDF2) (4.12.0)\n"
     ]
    }
   ],
   "source": [
    "# import libraries\n",
    "import pandas as pd\n",
    "import numpy as np\n",
    "\n",
    "# install pypdf\n",
    "!pip install pyPDF2\n",
    "import PyPDF2"
   ]
  },
  {
   "cell_type": "code",
   "execution_count": 7,
   "id": "7b66d176",
   "metadata": {},
   "outputs": [],
   "source": [
    "from PyPDF2 import PdfReader"
   ]
  },
  {
   "cell_type": "markdown",
   "id": "18495e7d",
   "metadata": {},
   "source": [
    "# create simple pdf reader"
   ]
  },
  {
   "cell_type": "code",
   "execution_count": 13,
   "id": "1814c126",
   "metadata": {},
   "outputs": [
    {
     "name": "stdout",
     "output_type": "stream",
     "text": [
      "P R O F I L E\n",
      "A highly motivated BCA\n",
      "graduate with strong\n",
      "foundational knowledge\n",
      "in computer\n",
      "applications,\n",
      "programming, and web\n",
      "development. Seeking an\n",
      "entry-level position to\n",
      "leverage my skills and\n",
      "contribute to innovative\n",
      "projects in a dynamic\n",
      "organization.\n",
      "CONTACT ME\n",
      "+91 9050264283\n",
      "Tejaskhokhar1234@gmail.com\n",
      "Rohtak , HaryanaEDUCATION\n",
      "M AHARSHI DAYANAND UNIVERSITY\n",
      "Bachelor of Computer Application\n",
      "SANSKRITI SCHOOL ROHTAK\n",
      "12th Standard\n",
      "LANGUAGE\n",
      "English\n",
      "Hindi\n",
      "SKILLS\n",
      "MS ExcelTEJAS \n",
      "MS Powerpoint\n",
      "Python2020-2023\n",
      "Data visualization2019-2020\n",
      "STRENGTHS\n",
      "Problem Solving\n",
      "Teamwork\n",
      "Analytical Thinking\n",
      "HOBBIES\n",
      "Playing cricket and Volleyball\n",
      "Reading Books and listening Music\n"
     ]
    }
   ],
   "source": [
    "#\n",
    "import PyPDF2\n",
    "\n",
    "# Open the PDF file\n",
    "with open('tejas resume.pdf', 'rb') as file:\n",
    "    pdf_reader = PyPDF2.PdfReader(file)\n",
    "    \n",
    "    # Extract text from the first page\n",
    "    page = pdf_reader.pages[0]  # Get the first page\n",
    "    text = page.extract_text()  # Extract text from the page\n",
    "    \n",
    "    print(text)  # Print the extracted text\n"
   ]
  },
  {
   "cell_type": "code",
   "execution_count": 63,
   "id": "a8d0ad0d",
   "metadata": {},
   "outputs": [
    {
     "name": "stdout",
     "output_type": "stream",
     "text": [
      "1.  Linkedin \n",
      "2.  Glassdoor\n",
      "3.  Naukri \n",
      "4.  Monster \n",
      "5.  SimplyHired\n",
      "6.  Careercloud \n",
      "7.   FlexJobs\n",
      "8.  CareerBuilder \n",
      "9.   CareerOneStop \n",
      "10.  IndeedTop Websites For Your\n",
      "Career Growth1.  Linkedin \n",
      "2.  Intershala\n",
      "3.  Angle List \n",
      "4.  Indeed \n",
      "5.  WayUp\n",
      "6.  Handshake \n",
      "7.  LetsIntern\n",
      "8.  InternWorld \n",
      "9.  GoAbroad \n",
      "10. MonsterTop Websites For Internship\n",
      "opportunitiesTop Websites For Free  \n",
      " Online Education\n",
      " Coursera \n",
      " Udemy \n",
      " Khan Academy \n",
      " edX \n",
      " Codecademy \n",
      " MIT OpenCourseWare \n",
      " Stanford Online \n",
      " OpenLearn \n",
      " Great Learning\n",
      " Google Digital Garage1.\n",
      "2.\n",
      "3.\n",
      "4.\n",
      "5.\n",
      "6.\n",
      "7.\n",
      "8.\n",
      "9.\n",
      "10.1.  Canva \n",
      "2.  Resume Genius\n",
      "3.  Zety \n",
      "4.  Novoresume\n",
      "5.  Resume.com\n",
      "6.  VisualCV \n",
      "7.  Enhancv\n",
      "8.  Resume.io \n",
      "9.  My Perfect Resume \n",
      "10. SlashCVTop Websites For Your\n",
      "Resume Making1.  InterviewBit \n",
      "2.  Glassdoor\n",
      "3.  Interviewing.io \n",
      "4.  Jobscan Interview Prep \n",
      "5.  Indeed Interview Tips\n",
      "6.  CareerCup\n",
      "7.  The Muse\n",
      "8.  Preplounge \n",
      "9.   Big Interview \n",
      "10. LinkedIn LearningTop Websites For Interview\n",
      "PreparationFollow Swapnil\n",
      "Tighare For such\n",
      "informative posts.  \n",
      "Swapnil R.   Tighare\n",
      "@ s w a p n i l _ t i g h a r e\n"
     ]
    }
   ],
   "source": [
    "import PyPDF2\n",
    "\n",
    "def read_pdf(file_path):\n",
    "    \n",
    "    text = \"\"\n",
    "    with open(file_path, \"rb\") as file:                            # 'rb'=binary read mode\n",
    "        pdf_reader = PyPDF2.PdfReader(file)\n",
    "    # Get number of pages directly from the PdfReader object\n",
    "        num_pages = len(pdf_reader.pages) \n",
    "        for page_num in range(num_pages):\n",
    "\n",
    "            page = pdf_reader.pages[page_num]\n",
    "            text += page.extract_text()\n",
    "    return text\n",
    "\n",
    "if __name__ == \"__main__\":\n",
    "    \n",
    "    pdf_file = \"Top website for career growth .pdf\"  # Provide the path to your PDF file\n",
    "    extracted_text = read_pdf(pdf_file)\n",
    "    print(extracted_text)\n"
   ]
  },
  {
   "cell_type": "code",
   "execution_count": 46,
   "id": "160dfc02",
   "metadata": {
    "scrolled": true
   },
   "outputs": [
    {
     "name": "stdout",
     "output_type": "stream",
     "text": [
      "1.  Linkedin \n",
      "2.  Glassdoor\n",
      "3.  Naukri \n",
      "4.  Monster \n",
      "5.  SimplyHired\n",
      "6.  Careercloud \n",
      "7.   FlexJobs\n",
      "8.  CareerBuilder \n",
      "9.   CareerOneStop \n",
      "10.  IndeedTop Websites For Your\n",
      "Career Growth1.  Linkedin \n",
      "2.  Intershala\n",
      "3.  Angle List \n",
      "4.  Indeed \n",
      "5.  WayUp\n",
      "6.  Handshake \n",
      "7.  LetsIntern\n",
      "8.  InternWorld \n",
      "9.  GoAbroad \n",
      "10. MonsterTop Websites For Internship\n",
      "opportunitiesTop Websites For Free  \n",
      " Online Education\n",
      " Coursera \n",
      " Udemy \n",
      " Khan Academy \n",
      " edX \n",
      " Codecademy \n",
      " MIT OpenCourseWare \n",
      " Stanford Online \n",
      " OpenLearn \n",
      " Great Learning\n",
      " Google Digital Garage1.\n",
      "2.\n",
      "3.\n",
      "4.\n",
      "5.\n",
      "6.\n",
      "7.\n",
      "8.\n",
      "9.\n",
      "10.1.  Canva \n",
      "2.  Resume Genius\n",
      "3.  Zety \n",
      "4.  Novoresume\n",
      "5.  Resume.com\n",
      "6.  VisualCV \n",
      "7.  Enhancv\n",
      "8.  Resume.io \n",
      "9.  My Perfect Resume \n",
      "10. SlashCVTop Websites For Your\n",
      "Resume Making1.  InterviewBit \n",
      "2.  Glassdoor\n",
      "3.  Interviewing.io \n",
      "4.  Jobscan Interview Prep \n",
      "5.  Indeed Interview Tips\n",
      "6.  CareerCup\n",
      "7.  The Muse\n",
      "8.  Preplounge \n",
      "9.   Big Interview \n",
      "10. LinkedIn LearningTop Websites For Interview\n",
      "PreparationFollow Swapnil\n",
      "Tighare For such\n",
      "informative posts.  \n",
      "Swapnil R.   Tighare\n",
      "@ s w a p n i l _ t i g h a r e\n"
     ]
    }
   ],
   "source": [
    "\n",
    "if __name__ == \"__main__\":\n",
    "    \n",
    "    pdf_file = \"Top website for career growth .pdf\"  # Provide the path to your PDF file\n",
    "    extracted_text = read_pdf(pdf_file)\n",
    "    print(extracted_text)"
   ]
  },
  {
   "cell_type": "markdown",
   "id": "b4bf4290",
   "metadata": {},
   "source": [
    "# script for summarization"
   ]
  },
  {
   "cell_type": "code",
   "execution_count": 47,
   "id": "127a6b6b",
   "metadata": {},
   "outputs": [
    {
     "name": "stderr",
     "output_type": "stream",
     "text": [
      "[nltk_data] Downloading package punkt to\n",
      "[nltk_data]     C:\\Users\\SACHIN\\AppData\\Roaming\\nltk_data...\n",
      "[nltk_data]   Package punkt is already up-to-date!\n",
      "[nltk_data] Downloading package stopwords to\n",
      "[nltk_data]     C:\\Users\\SACHIN\\AppData\\Roaming\\nltk_data...\n",
      "[nltk_data]   Unzipping corpora\\stopwords.zip.\n"
     ]
    },
    {
     "data": {
      "text/plain": [
       "True"
      ]
     },
     "execution_count": 47,
     "metadata": {},
     "output_type": "execute_result"
    }
   ],
   "source": [
    "# import libraries\n",
    "import nltk\n",
    "import PyPDF2\n",
    "from nltk.tokenize import sent_tokenize\n",
    "from nltk.corpus import stopwords\n",
    "from sklearn.feature_extraction.text import TfidfVectorizer\n",
    "from sklearn.metrics.pairwise import cosine_similarity\n",
    "\n",
    "nltk.download('punkt')\n",
    "nltk.download('stopwords')"
   ]
  },
  {
   "cell_type": "code",
   "execution_count": 48,
   "id": "da014783",
   "metadata": {
    "scrolled": true
   },
   "outputs": [
    {
     "name": "stdout",
     "output_type": "stream",
     "text": [
      "Defaulting to user installation because normal site-packages is not writeable\n",
      "Collecting transformers\n",
      "  Downloading transformers-4.41.2-py3-none-any.whl (9.1 MB)\n",
      "     ---------------------------------------- 9.1/9.1 MB 4.7 MB/s eta 0:00:00\n",
      "Requirement already satisfied: filelock in c:\\programdata\\anaconda3\\lib\\site-packages (from transformers) (3.6.0)\n",
      "Requirement already satisfied: numpy>=1.17 in c:\\users\\sachin\\appdata\\roaming\\python\\python39\\site-packages (from transformers) (1.24.3)\n",
      "Requirement already satisfied: regex!=2019.12.17 in c:\\programdata\\anaconda3\\lib\\site-packages (from transformers) (2022.7.9)\n",
      "Collecting huggingface-hub<1.0,>=0.23.0\n",
      "  Downloading huggingface_hub-0.23.2-py3-none-any.whl (401 kB)\n",
      "     -------------------------------------- 401.7/401.7 kB 4.2 MB/s eta 0:00:00\n",
      "Requirement already satisfied: pyyaml>=5.1 in c:\\programdata\\anaconda3\\lib\\site-packages (from transformers) (6.0)\n",
      "Requirement already satisfied: requests in c:\\users\\sachin\\appdata\\roaming\\python\\python39\\site-packages (from transformers) (2.31.0)\n",
      "Requirement already satisfied: packaging>=20.0 in c:\\programdata\\anaconda3\\lib\\site-packages (from transformers) (21.3)\n",
      "Requirement already satisfied: tqdm>=4.27 in c:\\programdata\\anaconda3\\lib\\site-packages (from transformers) (4.64.1)\n",
      "Collecting tokenizers<0.20,>=0.19\n",
      "  Downloading tokenizers-0.19.1-cp39-none-win_amd64.whl (2.2 MB)\n",
      "     ---------------------------------------- 2.2/2.2 MB 4.4 MB/s eta 0:00:00\n",
      "Collecting safetensors>=0.4.1\n",
      "  Downloading safetensors-0.4.3-cp39-none-win_amd64.whl (287 kB)\n",
      "     -------------------------------------- 287.9/287.9 kB 3.0 MB/s eta 0:00:00\n",
      "Collecting fsspec>=2023.5.0\n",
      "  Downloading fsspec-2024.5.0-py3-none-any.whl (316 kB)\n",
      "     -------------------------------------- 316.1/316.1 kB 4.9 MB/s eta 0:00:00\n",
      "Requirement already satisfied: typing-extensions>=3.7.4.3 in c:\\users\\sachin\\appdata\\roaming\\python\\python39\\site-packages (from huggingface-hub<1.0,>=0.23.0->transformers) (4.12.0)\n",
      "Requirement already satisfied: pyparsing!=3.0.5,>=2.0.2 in c:\\programdata\\anaconda3\\lib\\site-packages (from packaging>=20.0->transformers) (3.0.9)\n",
      "Requirement already satisfied: colorama in c:\\users\\sachin\\appdata\\roaming\\python\\python39\\site-packages (from tqdm>=4.27->transformers) (0.4.6)\n",
      "Requirement already satisfied: urllib3<3,>=1.21.1 in c:\\programdata\\anaconda3\\lib\\site-packages (from requests->transformers) (1.26.11)\n",
      "Requirement already satisfied: idna<4,>=2.5 in c:\\programdata\\anaconda3\\lib\\site-packages (from requests->transformers) (3.3)\n",
      "Requirement already satisfied: charset-normalizer<4,>=2 in c:\\programdata\\anaconda3\\lib\\site-packages (from requests->transformers) (2.0.4)\n",
      "Requirement already satisfied: certifi>=2017.4.17 in c:\\programdata\\anaconda3\\lib\\site-packages (from requests->transformers) (2022.9.14)\n",
      "Installing collected packages: safetensors, fsspec, huggingface-hub, tokenizers, transformers\n",
      "Successfully installed fsspec-2024.5.0 huggingface-hub-0.23.2 safetensors-0.4.3 tokenizers-0.19.1 transformers-4.41.2\n"
     ]
    },
    {
     "name": "stderr",
     "output_type": "stream",
     "text": [
      "  WARNING: The script huggingface-cli.exe is installed in 'C:\\Users\\SACHIN\\AppData\\Roaming\\Python\\Python39\\Scripts' which is not on PATH.\n",
      "  Consider adding this directory to PATH or, if you prefer to suppress this warning, use --no-warn-script-location.\n",
      "  WARNING: The script transformers-cli.exe is installed in 'C:\\Users\\SACHIN\\AppData\\Roaming\\Python\\Python39\\Scripts' which is not on PATH.\n",
      "  Consider adding this directory to PATH or, if you prefer to suppress this warning, use --no-warn-script-location.\n"
     ]
    }
   ],
   "source": [
    "!pip install transformers\n"
   ]
  },
  {
   "cell_type": "code",
   "execution_count": 50,
   "id": "b44661b3",
   "metadata": {
    "scrolled": true
   },
   "outputs": [
    {
     "name": "stdout",
     "output_type": "stream",
     "text": [
      "Defaulting to user installation because normal site-packages is not writeable\n",
      "Collecting torch\n",
      "  Downloading torch-2.3.0-cp39-cp39-win_amd64.whl (159.7 MB)\n",
      "     ------------------------------------ 159.7/159.7 MB 701.9 kB/s eta 0:00:00\n",
      "Requirement already satisfied: fsspec in c:\\users\\sachin\\appdata\\roaming\\python\\python39\\site-packages (from torch) (2024.5.0)\n",
      "Requirement already satisfied: typing-extensions>=4.8.0 in c:\\users\\sachin\\appdata\\roaming\\python\\python39\\site-packages (from torch) (4.12.0)\n",
      "Requirement already satisfied: sympy in c:\\programdata\\anaconda3\\lib\\site-packages (from torch) (1.10.1)\n",
      "Requirement already satisfied: jinja2 in c:\\programdata\\anaconda3\\lib\\site-packages (from torch) (2.11.3)\n",
      "Requirement already satisfied: filelock in c:\\programdata\\anaconda3\\lib\\site-packages (from torch) (3.6.0)\n",
      "Collecting mkl<=2021.4.0,>=2021.1.1\n",
      "  Downloading mkl-2021.4.0-py2.py3-none-win_amd64.whl (228.5 MB)\n",
      "     ------------------------------------ 228.5/228.5 MB 601.4 kB/s eta 0:00:00\n",
      "Requirement already satisfied: networkx in c:\\programdata\\anaconda3\\lib\\site-packages (from torch) (2.8.4)\n",
      "Collecting tbb==2021.*\n",
      "  Downloading tbb-2021.12.0-py3-none-win_amd64.whl (286 kB)\n",
      "     ------------------------------------ 286.4/286.4 kB 339.7 kB/s eta 0:00:00\n",
      "Collecting intel-openmp==2021.*\n",
      "  Downloading intel_openmp-2021.4.0-py2.py3-none-win_amd64.whl (3.5 MB)\n",
      "     ---------------------------------------- 3.5/3.5 MB 738.2 kB/s eta 0:00:00\n",
      "Requirement already satisfied: MarkupSafe>=0.23 in c:\\programdata\\anaconda3\\lib\\site-packages (from jinja2->torch) (2.0.1)\n",
      "Requirement already satisfied: mpmath>=0.19 in c:\\programdata\\anaconda3\\lib\\site-packages (from sympy->torch) (1.2.1)\n",
      "Installing collected packages: tbb, intel-openmp, mkl, torch\n",
      "Successfully installed intel-openmp-2021.4.0 mkl-2021.4.0 tbb-2021.12.0 torch-2.3.0\n"
     ]
    },
    {
     "name": "stderr",
     "output_type": "stream",
     "text": [
      "  WARNING: The scripts convert-caffe2-to-onnx.exe, convert-onnx-to-caffe2.exe and torchrun.exe are installed in 'C:\\Users\\SACHIN\\AppData\\Roaming\\Python\\Python39\\Scripts' which is not on PATH.\n",
      "  Consider adding this directory to PATH or, if you prefer to suppress this warning, use --no-warn-script-location.\n"
     ]
    }
   ],
   "source": [
    "!pip install torch"
   ]
  },
  {
   "cell_type": "code",
   "execution_count": 52,
   "id": "caabdb70",
   "metadata": {
    "scrolled": true
   },
   "outputs": [
    {
     "name": "stdout",
     "output_type": "stream",
     "text": [
      "Defaulting to user installation because normal site-packages is not writeable\n",
      "Requirement already satisfied: transformers[summarization] in c:\\users\\sachin\\appdata\\roaming\\python\\python39\\site-packages (4.41.2)\n",
      "Requirement already satisfied: pyyaml>=5.1 in c:\\programdata\\anaconda3\\lib\\site-packages (from transformers[summarization]) (6.0)\n",
      "Requirement already satisfied: tokenizers<0.20,>=0.19 in c:\\users\\sachin\\appdata\\roaming\\python\\python39\\site-packages (from transformers[summarization]) (0.19.1)\n",
      "Requirement already satisfied: regex!=2019.12.17 in c:\\programdata\\anaconda3\\lib\\site-packages (from transformers[summarization]) (2022.7.9)\n",
      "Requirement already satisfied: safetensors>=0.4.1 in c:\\users\\sachin\\appdata\\roaming\\python\\python39\\site-packages (from transformers[summarization]) (0.4.3)\n",
      "Requirement already satisfied: tqdm>=4.27 in c:\\programdata\\anaconda3\\lib\\site-packages (from transformers[summarization]) (4.64.1)\n",
      "Requirement already satisfied: numpy>=1.17 in c:\\users\\sachin\\appdata\\roaming\\python\\python39\\site-packages (from transformers[summarization]) (1.24.3)\n",
      "Requirement already satisfied: packaging>=20.0 in c:\\programdata\\anaconda3\\lib\\site-packages (from transformers[summarization]) (21.3)\n",
      "Requirement already satisfied: filelock in c:\\programdata\\anaconda3\\lib\\site-packages (from transformers[summarization]) (3.6.0)\n",
      "Requirement already satisfied: huggingface-hub<1.0,>=0.23.0 in c:\\users\\sachin\\appdata\\roaming\\python\\python39\\site-packages (from transformers[summarization]) (0.23.2)\n",
      "Requirement already satisfied: requests in c:\\users\\sachin\\appdata\\roaming\\python\\python39\\site-packages (from transformers[summarization]) (2.31.0)\n",
      "Requirement already satisfied: typing-extensions>=3.7.4.3 in c:\\users\\sachin\\appdata\\roaming\\python\\python39\\site-packages (from huggingface-hub<1.0,>=0.23.0->transformers[summarization]) (4.12.0)\n",
      "Requirement already satisfied: fsspec>=2023.5.0 in c:\\users\\sachin\\appdata\\roaming\\python\\python39\\site-packages (from huggingface-hub<1.0,>=0.23.0->transformers[summarization]) (2024.5.0)\n",
      "Requirement already satisfied: pyparsing!=3.0.5,>=2.0.2 in c:\\programdata\\anaconda3\\lib\\site-packages (from packaging>=20.0->transformers[summarization]) (3.0.9)\n",
      "Requirement already satisfied: colorama in c:\\users\\sachin\\appdata\\roaming\\python\\python39\\site-packages (from tqdm>=4.27->transformers[summarization]) (0.4.6)\n",
      "Requirement already satisfied: charset-normalizer<4,>=2 in c:\\programdata\\anaconda3\\lib\\site-packages (from requests->transformers[summarization]) (2.0.4)\n",
      "Requirement already satisfied: idna<4,>=2.5 in c:\\programdata\\anaconda3\\lib\\site-packages (from requests->transformers[summarization]) (3.3)\n",
      "Requirement already satisfied: certifi>=2017.4.17 in c:\\programdata\\anaconda3\\lib\\site-packages (from requests->transformers[summarization]) (2022.9.14)\n",
      "Requirement already satisfied: urllib3<3,>=1.21.1 in c:\\programdata\\anaconda3\\lib\\site-packages (from requests->transformers[summarization]) (1.26.11)\n"
     ]
    },
    {
     "name": "stderr",
     "output_type": "stream",
     "text": [
      "WARNING: transformers 4.41.2 does not provide the extra 'summarization'\n"
     ]
    }
   ],
   "source": [
    "!pip install transformers[summarization]\n"
   ]
  },
  {
   "cell_type": "code",
   "execution_count": 54,
   "id": "6aa5a2a0",
   "metadata": {},
   "outputs": [
    {
     "name": "stdout",
     "output_type": "stream",
     "text": [
      "Defaulting to user installation because normal site-packages is not writeable\n",
      "Requirement already satisfied: transformers in c:\\users\\sachin\\appdata\\roaming\\python\\python39\\site-packages (4.41.2)\n",
      "Requirement already satisfied: filelock in c:\\programdata\\anaconda3\\lib\\site-packages (from transformers) (3.6.0)\n",
      "Requirement already satisfied: tqdm>=4.27 in c:\\programdata\\anaconda3\\lib\\site-packages (from transformers) (4.64.1)\n",
      "Requirement already satisfied: packaging>=20.0 in c:\\programdata\\anaconda3\\lib\\site-packages (from transformers) (21.3)\n",
      "Requirement already satisfied: pyyaml>=5.1 in c:\\programdata\\anaconda3\\lib\\site-packages (from transformers) (6.0)\n",
      "Requirement already satisfied: huggingface-hub<1.0,>=0.23.0 in c:\\users\\sachin\\appdata\\roaming\\python\\python39\\site-packages (from transformers) (0.23.2)\n",
      "Requirement already satisfied: requests in c:\\users\\sachin\\appdata\\roaming\\python\\python39\\site-packages (from transformers) (2.31.0)\n",
      "Requirement already satisfied: tokenizers<0.20,>=0.19 in c:\\users\\sachin\\appdata\\roaming\\python\\python39\\site-packages (from transformers) (0.19.1)\n",
      "Requirement already satisfied: regex!=2019.12.17 in c:\\programdata\\anaconda3\\lib\\site-packages (from transformers) (2022.7.9)\n",
      "Requirement already satisfied: numpy>=1.17 in c:\\users\\sachin\\appdata\\roaming\\python\\python39\\site-packages (from transformers) (1.24.3)\n",
      "Requirement already satisfied: safetensors>=0.4.1 in c:\\users\\sachin\\appdata\\roaming\\python\\python39\\site-packages (from transformers) (0.4.3)\n",
      "Requirement already satisfied: typing-extensions>=3.7.4.3 in c:\\users\\sachin\\appdata\\roaming\\python\\python39\\site-packages (from huggingface-hub<1.0,>=0.23.0->transformers) (4.12.0)\n",
      "Requirement already satisfied: fsspec>=2023.5.0 in c:\\users\\sachin\\appdata\\roaming\\python\\python39\\site-packages (from huggingface-hub<1.0,>=0.23.0->transformers) (2024.5.0)\n",
      "Requirement already satisfied: pyparsing!=3.0.5,>=2.0.2 in c:\\programdata\\anaconda3\\lib\\site-packages (from packaging>=20.0->transformers) (3.0.9)\n",
      "Requirement already satisfied: colorama in c:\\users\\sachin\\appdata\\roaming\\python\\python39\\site-packages (from tqdm>=4.27->transformers) (0.4.6)\n",
      "Requirement already satisfied: charset-normalizer<4,>=2 in c:\\programdata\\anaconda3\\lib\\site-packages (from requests->transformers) (2.0.4)\n",
      "Requirement already satisfied: urllib3<3,>=1.21.1 in c:\\programdata\\anaconda3\\lib\\site-packages (from requests->transformers) (1.26.11)\n",
      "Requirement already satisfied: idna<4,>=2.5 in c:\\programdata\\anaconda3\\lib\\site-packages (from requests->transformers) (3.3)\n",
      "Requirement already satisfied: certifi>=2017.4.17 in c:\\programdata\\anaconda3\\lib\\site-packages (from requests->transformers) (2022.9.14)\n"
     ]
    }
   ],
   "source": [
    "!pip install transformers --upgrade\n"
   ]
  },
  {
   "cell_type": "code",
   "execution_count": 65,
   "id": "7bffd3a9",
   "metadata": {},
   "outputs": [
    {
     "name": "stderr",
     "output_type": "stream",
     "text": [
      "[nltk_data] Downloading package punkt to\n",
      "[nltk_data]     C:\\Users\\SACHIN\\AppData\\Roaming\\nltk_data...\n",
      "[nltk_data]   Package punkt is already up-to-date!\n"
     ]
    }
   ],
   "source": [
    "import PyPDF2\n",
    "import nltk\n",
    "from nltk.tokenize import sent_tokenize\n",
    "\n",
    "import torch\n",
    "from transformers import BartTokenizer, BartForConditionalGeneration\n",
    "import tkinter as tk\n",
    "from tkinter import filedialog\n",
    "\n",
    "# Download NLTK resources\n",
    "nltk.download('punkt')\n",
    "\n",
    "# Load BART tokenizer and model\n",
    "tokenizer = BartTokenizer.from_pretrained('facebook/bart-large-cnn')\n",
    "model = BartForConditionalGeneration.from_pretrained('facebook/bart-large-cnn')\n",
    "\n",
    "def read_pdf(file_path):\n",
    "    \n",
    "    text = \"\"\n",
    "    with open(file_path, \"rb\") as file:                            # 'rb'=binary read mode\n",
    "        pdf_reader = PyPDF2.PdfReader(file)\n",
    "    # Get number of pages directly from the PdfReader object\n",
    "        num_pages = len(pdf_reader.pages) \n",
    "        for page_num in range(num_pages):\n",
    "\n",
    "            page = pdf_reader.pages[page_num]\n",
    "            text += page.extract_text()\n",
    "    return text\n",
    "\n",
    "def summarize_text(text, max_length=500):\n",
    "    inputs = tokenizer([text], max_length=1024, return_tensors='pt', truncation=True)\n",
    "    summary_ids = model.generate(inputs['input_ids'], num_beams=4, max_length=max_length, early_stopping=True)\n",
    "    summary = tokenizer.decode(summary_ids[0], skip_special_tokens=True)\n",
    "    return summary\n",
    "\n",
    "def select_file():\n",
    "    file_path = filedialog.askopenfilename(filetypes=[(\"PDF files\", \"*.pdf\")])\n",
    "    if file_path:\n",
    "        text = read_pdf(file_path)\n",
    "        summarized_text = summarize_text(text)\n",
    "        text_box.delete(1.0, tk.END)\n",
    "        text_box.insert(tk.END, summarized_text)\n",
    "\n",
    "\n"
   ]
  },
  {
   "cell_type": "code",
   "execution_count": 66,
   "id": "8475d178",
   "metadata": {},
   "outputs": [],
   "source": [
    "# Create GUI window\n",
    "root = tk.Tk()\n",
    "root.title(\"PDF Summarizer\")\n",
    "\n",
    "# Create select file button\n",
    "select_button = tk.Button(root, text=\"Select PDF File\", command=select_file)\n",
    "select_button.pack(pady=10)\n",
    "\n",
    "# Create text box to display summarized text\n",
    "text_box = tk.Text(root, height=20, width=80)\n",
    "text_box.pack(padx=10, pady=5)\n",
    "\n",
    "root.mainloop()"
   ]
  },
  {
   "cell_type": "code",
   "execution_count": null,
   "id": "6c132908",
   "metadata": {},
   "outputs": [],
   "source": []
  }
 ],
 "metadata": {
  "kernelspec": {
   "display_name": "Python 3 (ipykernel)",
   "language": "python",
   "name": "python3"
  },
  "language_info": {
   "codemirror_mode": {
    "name": "ipython",
    "version": 3
   },
   "file_extension": ".py",
   "mimetype": "text/x-python",
   "name": "python",
   "nbconvert_exporter": "python",
   "pygments_lexer": "ipython3",
   "version": "3.9.13"
  }
 },
 "nbformat": 4,
 "nbformat_minor": 5
}
