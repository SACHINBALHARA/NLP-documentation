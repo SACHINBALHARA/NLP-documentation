{
 "cells": [
  {
   "cell_type": "code",
   "execution_count": 1,
   "id": "81e38da0",
   "metadata": {},
   "outputs": [],
   "source": [
    "import gensim"
   ]
  },
  {
   "cell_type": "code",
   "execution_count": 2,
   "id": "8e377439",
   "metadata": {},
   "outputs": [
    {
     "name": "stdout",
     "output_type": "stream",
     "text": [
      "Defaulting to user installation because normal site-packages is not writeable\n",
      "Requirement already satisfied: gensim in c:\\programdata\\anaconda3\\lib\\site-packages (4.1.2)\n",
      "Requirement already satisfied: scipy>=0.18.1 in c:\\programdata\\anaconda3\\lib\\site-packages (from gensim) (1.9.1)\n",
      "Requirement already satisfied: smart-open>=1.8.1 in c:\\programdata\\anaconda3\\lib\\site-packages (from gensim) (5.2.1)\n",
      "Requirement already satisfied: numpy>=1.17.0 in c:\\programdata\\anaconda3\\lib\\site-packages (from gensim) (1.21.5)\n",
      "Note: you may need to restart the kernel to use updated packages.\n"
     ]
    }
   ],
   "source": [
    "pip install gensim"
   ]
  },
  {
   "cell_type": "code",
   "execution_count": 3,
   "id": "0f558899",
   "metadata": {},
   "outputs": [],
   "source": [
    "import gensim.downloader as api"
   ]
  },
  {
   "cell_type": "code",
   "execution_count": 4,
   "id": "9b195a94",
   "metadata": {},
   "outputs": [],
   "source": [
    "wv=api.load(\"word2vec-google-news-300\")"
   ]
  },
  {
   "cell_type": "code",
   "execution_count": null,
   "id": "e897e262",
   "metadata": {},
   "outputs": [],
   "source": []
  },
  {
   "cell_type": "code",
   "execution_count": 5,
   "id": "6e2e9193",
   "metadata": {},
   "outputs": [
    {
     "data": {
      "text/plain": [
       "[('great', 0.7291509509086609),\n",
       " ('bad', 0.7190050482749939),\n",
       " ('terrific', 0.688911497592926),\n",
       " ('decent', 0.6837348937988281),\n",
       " ('nice', 0.6836092472076416),\n",
       " ('excellent', 0.6442928910255432),\n",
       " ('fantastic', 0.6407778263092041),\n",
       " ('better', 0.6120728850364685),\n",
       " ('solid', 0.5806034803390503),\n",
       " ('lousy', 0.576420247554779)]"
      ]
     },
     "execution_count": 5,
     "metadata": {},
     "output_type": "execute_result"
    }
   ],
   "source": [
    "wv.most_similar(\"good\")"
   ]
  },
  {
   "cell_type": "code",
   "execution_count": 6,
   "id": "89ea1970",
   "metadata": {},
   "outputs": [
    {
     "data": {
      "text/plain": [
       "0.72915095"
      ]
     },
     "execution_count": 6,
     "metadata": {},
     "output_type": "execute_result"
    }
   ],
   "source": [
    "wv.similarity(w1=\"great\",w2=\"good\")"
   ]
  },
  {
   "cell_type": "code",
   "execution_count": 7,
   "id": "04c02036",
   "metadata": {},
   "outputs": [
    {
     "data": {
      "text/plain": [
       "0.79352117"
      ]
     },
     "execution_count": 7,
     "metadata": {},
     "output_type": "execute_result"
    }
   ],
   "source": [
    "wv.similarity(w1=\"great\",w2=\"fantastic\")"
   ]
  },
  {
   "cell_type": "code",
   "execution_count": 8,
   "id": "eda4238a",
   "metadata": {},
   "outputs": [
    {
     "data": {
      "text/plain": [
       "0.057815015"
      ]
     },
     "execution_count": 8,
     "metadata": {},
     "output_type": "execute_result"
    }
   ],
   "source": [
    "wv.similarity(w1=\"liquid\",w2=\"good\")"
   ]
  },
  {
   "cell_type": "code",
   "execution_count": 9,
   "id": "d68dde0c",
   "metadata": {},
   "outputs": [
    {
     "data": {
      "text/plain": [
       "[('dogs', 0.8680490851402283),\n",
       " ('puppy', 0.8106428384780884),\n",
       " ('pit_bull', 0.780396044254303),\n",
       " ('pooch', 0.762737512588501),\n",
       " ('cat', 0.7609456777572632),\n",
       " ('golden_retriever', 0.7500902414321899),\n",
       " ('German_shepherd', 0.7465173602104187),\n",
       " ('Rottweiler', 0.7437615394592285),\n",
       " ('beagle', 0.7418621182441711),\n",
       " ('pup', 0.7406911253929138)]"
      ]
     },
     "execution_count": 9,
     "metadata": {},
     "output_type": "execute_result"
    }
   ],
   "source": [
    "wv.most_similar(\"dog\")"
   ]
  },
  {
   "cell_type": "code",
   "execution_count": 10,
   "id": "dc294fca",
   "metadata": {},
   "outputs": [
    {
     "ename": "SyntaxError",
     "evalue": "cannot assign to operator (1164709044.py, line 1)",
     "output_type": "error",
     "traceback": [
      "\u001b[1;36m  File \u001b[1;32m\"C:\\Users\\SACHIN\\AppData\\Local\\Temp\\ipykernel_10800\\1164709044.py\"\u001b[1;36m, line \u001b[1;32m1\u001b[0m\n\u001b[1;33m    king-Man+Woman=Queen\u001b[0m\n\u001b[1;37m    ^\u001b[0m\n\u001b[1;31mSyntaxError\u001b[0m\u001b[1;31m:\u001b[0m cannot assign to operator\n"
     ]
    }
   ],
   "source": [
    "king-Man+Woman=Queen\n",
    "\n",
    "France-Paris+Berlin=Germany"
   ]
  },
  {
   "cell_type": "code",
   "execution_count": null,
   "id": "58ce8d9e",
   "metadata": {},
   "outputs": [],
   "source": [
    "wv.most_similar(positive=[\"King\",'Woman'],negative=[\"Man\"])"
   ]
  },
  {
   "cell_type": "code",
   "execution_count": null,
   "id": "0759ff9a",
   "metadata": {},
   "outputs": [],
   "source": [
    "wv.most_similar(positive=[\"France\",'Berlin'],negative=[\"Paris\"])"
   ]
  },
  {
   "cell_type": "code",
   "execution_count": null,
   "id": "cdf7efd8",
   "metadata": {},
   "outputs": [],
   "source": [
    "wv.most_similar(\"India\")"
   ]
  },
  {
   "cell_type": "code",
   "execution_count": null,
   "id": "936ad586",
   "metadata": {},
   "outputs": [],
   "source": [
    "wv.most_similar(\"Sachin\")"
   ]
  },
  {
   "cell_type": "code",
   "execution_count": null,
   "id": "ea26e9ad",
   "metadata": {},
   "outputs": [],
   "source": [
    "wv.most_similar(\"apple\")"
   ]
  },
  {
   "cell_type": "code",
   "execution_count": null,
   "id": "3a961809",
   "metadata": {},
   "outputs": [],
   "source": [
    "wv.doesnt_match(['facebook','apple','dog','microsoft','spacex'])"
   ]
  },
  {
   "cell_type": "code",
   "execution_count": null,
   "id": "1eb49823",
   "metadata": {},
   "outputs": [],
   "source": [
    "wv.doesnt_match(['facebook','apple','dog','microsoft','spacex','banana'])"
   ]
  },
  {
   "cell_type": "code",
   "execution_count": null,
   "id": "c626bef6",
   "metadata": {},
   "outputs": [],
   "source": [
    "wv.doesnt_match(['apple','dog','microsoft','facebook'])"
   ]
  },
  {
   "cell_type": "code",
   "execution_count": null,
   "id": "004182ed",
   "metadata": {},
   "outputs": [],
   "source": []
  },
  {
   "cell_type": "code",
   "execution_count": null,
   "id": "02475630",
   "metadata": {},
   "outputs": [],
   "source": []
  },
  {
   "cell_type": "code",
   "execution_count": null,
   "id": "6cc08aa7",
   "metadata": {},
   "outputs": [],
   "source": [
    "glv=api.load(\"glove-twitter-25\")"
   ]
  },
  {
   "cell_type": "code",
   "execution_count": null,
   "id": "0677107a",
   "metadata": {},
   "outputs": [],
   "source": [
    "glv.most_similar(\"spacex\")"
   ]
  },
  {
   "cell_type": "code",
   "execution_count": null,
   "id": "fbc3c80b",
   "metadata": {},
   "outputs": [],
   "source": []
  },
  {
   "cell_type": "code",
   "execution_count": null,
   "id": "af045bbb",
   "metadata": {},
   "outputs": [],
   "source": []
  },
  {
   "cell_type": "markdown",
   "id": "653be32f",
   "metadata": {},
   "source": [
    "# news classification using Gensim"
   ]
  },
  {
   "cell_type": "code",
   "execution_count": null,
   "id": "479517d3",
   "metadata": {},
   "outputs": [],
   "source": [
    "# fake news classification "
   ]
  },
  {
   "cell_type": "code",
   "execution_count": null,
   "id": "c52a49a7",
   "metadata": {},
   "outputs": [],
   "source": []
  },
  {
   "cell_type": "code",
   "execution_count": null,
   "id": "8b8a39e7",
   "metadata": {},
   "outputs": [],
   "source": [
    "# import libraries"
   ]
  },
  {
   "cell_type": "code",
   "execution_count": null,
   "id": "2450ae1a",
   "metadata": {},
   "outputs": [],
   "source": [
    "import pandas as pd\n",
    "import numpy as np"
   ]
  },
  {
   "cell_type": "code",
   "execution_count": null,
   "id": "3b013561",
   "metadata": {},
   "outputs": [],
   "source": [
    "# load dataset"
   ]
  },
  {
   "cell_type": "code",
   "execution_count": null,
   "id": "0045e4de",
   "metadata": {},
   "outputs": [],
   "source": [
    "data=pd.read_csv(r\"C:\\Users\\SACHIN\\Downloads\\fake_and_real_news.csv\")"
   ]
  },
  {
   "cell_type": "code",
   "execution_count": null,
   "id": "8ad42f2c",
   "metadata": {},
   "outputs": [],
   "source": [
    "data.shape"
   ]
  },
  {
   "cell_type": "code",
   "execution_count": null,
   "id": "37ec191f",
   "metadata": {},
   "outputs": [],
   "source": [
    "data.head()"
   ]
  },
  {
   "cell_type": "code",
   "execution_count": null,
   "id": "b9bf4a64",
   "metadata": {},
   "outputs": [],
   "source": [
    "data.Text[1]"
   ]
  },
  {
   "cell_type": "code",
   "execution_count": null,
   "id": "a2f42251",
   "metadata": {},
   "outputs": [],
   "source": [
    "data.info()"
   ]
  },
  {
   "cell_type": "code",
   "execution_count": null,
   "id": "4061b29e",
   "metadata": {},
   "outputs": [],
   "source": [
    "data.label.value_counts()"
   ]
  },
  {
   "cell_type": "code",
   "execution_count": null,
   "id": "2a2afd9f",
   "metadata": {},
   "outputs": [],
   "source": [
    "# create a new column named ' label_num' "
   ]
  },
  {
   "cell_type": "code",
   "execution_count": null,
   "id": "1bfbf7eb",
   "metadata": {},
   "outputs": [],
   "source": [
    "data['label_num']=data.label.map({\n",
    "    'Fake':0,\n",
    "    'Real':1\n",
    "})"
   ]
  },
  {
   "cell_type": "code",
   "execution_count": null,
   "id": "e6e7f987",
   "metadata": {},
   "outputs": [],
   "source": [
    "data.head()"
   ]
  },
  {
   "cell_type": "code",
   "execution_count": null,
   "id": "67481b11",
   "metadata": {},
   "outputs": [],
   "source": [
    "import spacy"
   ]
  },
  {
   "cell_type": "code",
   "execution_count": null,
   "id": "21f3a7dc",
   "metadata": {},
   "outputs": [],
   "source": [
    "nlp=spacy.load(\"en_core_web_lg\")"
   ]
  },
  {
   "cell_type": "code",
   "execution_count": null,
   "id": "5cf689d9",
   "metadata": {},
   "outputs": [],
   "source": [
    "import spacy\n",
    "nlp=spacy.load(\"en_core_web_lg\")\n",
    "def preprocess_and_vectorize(text):\n",
    "    doc=nlp(text)\n",
    "    \n",
    "    filtered_token=[]\n",
    "    for token in doc:\n",
    "        if token.is_punct or token.is_stop:\n",
    "            continue\n",
    "        filtered_token.append(token.vector)\n",
    "        np.stack(['filtered_token'])\n",
    "        \n",
    "    return filtered_token"
   ]
  },
  {
   "cell_type": "code",
   "execution_count": null,
   "id": "1d8f96d0",
   "metadata": {},
   "outputs": [],
   "source": [
    "preprocess_and_vectorize(\"States Democratic Congressman Ro Khanna said he stands for pluralism\")"
   ]
  },
  {
   "cell_type": "code",
   "execution_count": null,
   "id": "98f436be",
   "metadata": {},
   "outputs": [],
   "source": [
    "preprocess_and_vectorize(\"don't worry if you don't understand\")"
   ]
  },
  {
   "cell_type": "code",
   "execution_count": null,
   "id": "c7451932",
   "metadata": {},
   "outputs": [],
   "source": []
  },
  {
   "cell_type": "code",
   "execution_count": null,
   "id": "c020f554",
   "metadata": {},
   "outputs": [],
   "source": [
    "v1=wv['worry']\n",
    "v2=wv['understand']\n",
    "\n",
    "np.mean([v1,v2],axis=0)\n"
   ]
  },
  {
   "cell_type": "code",
   "execution_count": null,
   "id": "fc4c14fd",
   "metadata": {},
   "outputs": [],
   "source": [
    "v1=wv['worry']\n",
    "v2=wv['understand']\n",
    "\n",
    "np.mean([v1,v2],axis=0).shape"
   ]
  },
  {
   "cell_type": "code",
   "execution_count": null,
   "id": "058cba63",
   "metadata": {},
   "outputs": [],
   "source": [
    "v1=wv['worry']\n",
    "v2=wv['understand']\n",
    "\n",
    "np.mean([v1,v2],axis=0)[:3]"
   ]
  },
  {
   "cell_type": "code",
   "execution_count": null,
   "id": "0a041ee4",
   "metadata": {},
   "outputs": [],
   "source": [
    "# create new column for vector"
   ]
  },
  {
   "cell_type": "code",
   "execution_count": null,
   "id": "de7258b5",
   "metadata": {},
   "outputs": [],
   "source": []
  },
  {
   "cell_type": "code",
   "execution_count": null,
   "id": "5b21ed29",
   "metadata": {},
   "outputs": [],
   "source": []
  },
  {
   "cell_type": "code",
   "execution_count": null,
   "id": "f10b8560",
   "metadata": {},
   "outputs": [],
   "source": [
    "data['vector']=data['Text'].apply(lambda text: preprocess_and_vectorize(text))"
   ]
  },
  {
   "cell_type": "code",
   "execution_count": null,
   "id": "25a7c558",
   "metadata": {},
   "outputs": [],
   "source": []
  },
  {
   "cell_type": "code",
   "execution_count": null,
   "id": "bf07e37c",
   "metadata": {},
   "outputs": [],
   "source": []
  },
  {
   "cell_type": "code",
   "execution_count": null,
   "id": "ba6cc2ab",
   "metadata": {},
   "outputs": [],
   "source": [
    "data.head()"
   ]
  },
  {
   "cell_type": "code",
   "execution_count": null,
   "id": "b2572a55",
   "metadata": {},
   "outputs": [],
   "source": [
    "data.label.value_counts()"
   ]
  },
  {
   "cell_type": "code",
   "execution_count": null,
   "id": "b8308500",
   "metadata": {},
   "outputs": [],
   "source": []
  },
  {
   "cell_type": "code",
   "execution_count": null,
   "id": "83b7d2aa",
   "metadata": {},
   "outputs": [],
   "source": [
    "# train _test _split"
   ]
  },
  {
   "cell_type": "code",
   "execution_count": null,
   "id": "69abce36",
   "metadata": {},
   "outputs": [],
   "source": [
    "X=data['vector']"
   ]
  },
  {
   "cell_type": "code",
   "execution_count": null,
   "id": "a346e182",
   "metadata": {},
   "outputs": [],
   "source": [
    "y=data['label_num']"
   ]
  },
  {
   "cell_type": "code",
   "execution_count": null,
   "id": "4765e40a",
   "metadata": {},
   "outputs": [],
   "source": [
    "y"
   ]
  },
  {
   "cell_type": "code",
   "execution_count": null,
   "id": "c195dbc7",
   "metadata": {},
   "outputs": [],
   "source": []
  },
  {
   "cell_type": "code",
   "execution_count": null,
   "id": "e578a1b6",
   "metadata": {},
   "outputs": [],
   "source": [
    "from sklearn.model_selection import train_test_split"
   ]
  },
  {
   "cell_type": "code",
   "execution_count": null,
   "id": "0340a5aa",
   "metadata": {},
   "outputs": [],
   "source": [
    "X_train,X_test,y_train,y_test=train_test_split(X,y,test_size=0.2)"
   ]
  },
  {
   "cell_type": "code",
   "execution_count": null,
   "id": "3d6f63ab",
   "metadata": {},
   "outputs": [],
   "source": []
  },
  {
   "cell_type": "code",
   "execution_count": null,
   "id": "8bd20419",
   "metadata": {},
   "outputs": [],
   "source": []
  }
 ],
 "metadata": {
  "kernelspec": {
   "display_name": "Python 3 (ipykernel)",
   "language": "python",
   "name": "python3"
  },
  "language_info": {
   "codemirror_mode": {
    "name": "ipython",
    "version": 3
   },
   "file_extension": ".py",
   "mimetype": "text/x-python",
   "name": "python",
   "nbconvert_exporter": "python",
   "pygments_lexer": "ipython3",
   "version": "3.9.13"
  }
 },
 "nbformat": 4,
 "nbformat_minor": 5
}
