{
 "cells": [
  {
   "cell_type": "code",
   "execution_count": 1,
   "id": "0cfba21d",
   "metadata": {},
   "outputs": [],
   "source": [
    "from sklearn.feature_extraction.text import CountVectorizer"
   ]
  },
  {
   "cell_type": "code",
   "execution_count": 2,
   "id": "a1fbe47a",
   "metadata": {},
   "outputs": [],
   "source": [
    "cv=CountVectorizer()"
   ]
  },
  {
   "cell_type": "code",
   "execution_count": 4,
   "id": "03e844f9",
   "metadata": {},
   "outputs": [
    {
     "data": {
      "text/plain": [
       "{'another': 0,\n",
       " 'way': 11,\n",
       " 'of': 8,\n",
       " 'dealing': 2,\n",
       " 'with': 12,\n",
       " 'empty': 3,\n",
       " 'cells': 1,\n",
       " 'is': 6,\n",
       " 'to': 9,\n",
       " 'insert': 4,\n",
       " 'new': 7,\n",
       " 'value': 10,\n",
       " 'instead': 5}"
      ]
     },
     "execution_count": 4,
     "metadata": {},
     "output_type": "execute_result"
    }
   ],
   "source": [
    "cv.fit([\"Another way of dealing with empty cells is to insert a new value instead.\"])\n",
    "cv.vocabulary_"
   ]
  },
  {
   "cell_type": "code",
   "execution_count": 5,
   "id": "91b3a854",
   "metadata": {
    "collapsed": true
   },
   "outputs": [
    {
     "data": {
      "text/plain": [
       "{'another way': 0,\n",
       " 'way of': 10,\n",
       " 'of dealing': 7,\n",
       " 'dealing with': 2,\n",
       " 'with empty': 11,\n",
       " 'empty cells': 3,\n",
       " 'cells is': 1,\n",
       " 'is to': 5,\n",
       " 'to insert': 8,\n",
       " 'insert new': 4,\n",
       " 'new value': 6,\n",
       " 'value instead': 9}"
      ]
     },
     "execution_count": 5,
     "metadata": {},
     "output_type": "execute_result"
    }
   ],
   "source": [
    "cv=CountVectorizer(ngram_range=(2,2))\n",
    "cv.fit([\"Another way of dealing with empty cells is to insert a new value instead.\"])\n",
    "cv.vocabulary_"
   ]
  },
  {
   "cell_type": "code",
   "execution_count": 7,
   "id": "0ed4682a",
   "metadata": {
    "collapsed": true
   },
   "outputs": [
    {
     "data": {
      "text/plain": [
       "{'another': 0,\n",
       " 'way': 21,\n",
       " 'of': 15,\n",
       " 'dealing': 4,\n",
       " 'with': 23,\n",
       " 'empty': 6,\n",
       " 'cells': 2,\n",
       " 'is': 11,\n",
       " 'to': 17,\n",
       " 'insert': 8,\n",
       " 'new': 13,\n",
       " 'value': 19,\n",
       " 'instead': 10,\n",
       " 'another way': 1,\n",
       " 'way of': 22,\n",
       " 'of dealing': 16,\n",
       " 'dealing with': 5,\n",
       " 'with empty': 24,\n",
       " 'empty cells': 7,\n",
       " 'cells is': 3,\n",
       " 'is to': 12,\n",
       " 'to insert': 18,\n",
       " 'insert new': 9,\n",
       " 'new value': 14,\n",
       " 'value instead': 20}"
      ]
     },
     "execution_count": 7,
     "metadata": {},
     "output_type": "execute_result"
    }
   ],
   "source": [
    "cv=CountVectorizer(ngram_range=(1,2))\n",
    "cv.fit([\"Another way of dealing with empty cells is to insert a new value instead.\"])\n",
    "cv.vocabulary_"
   ]
  },
  {
   "cell_type": "code",
   "execution_count": 12,
   "id": "74725f53",
   "metadata": {
    "collapsed": true
   },
   "outputs": [
    {
     "data": {
      "text/plain": [
       "{'another': 0,\n",
       " 'way': 30,\n",
       " 'of': 22,\n",
       " 'dealing': 6,\n",
       " 'with': 33,\n",
       " 'empty': 9,\n",
       " 'cells': 3,\n",
       " 'is': 16,\n",
       " 'to': 25,\n",
       " 'insert': 12,\n",
       " 'new': 19,\n",
       " 'value': 28,\n",
       " 'instead': 15,\n",
       " 'another way': 1,\n",
       " 'way of': 31,\n",
       " 'of dealing': 23,\n",
       " 'dealing with': 7,\n",
       " 'with empty': 34,\n",
       " 'empty cells': 10,\n",
       " 'cells is': 4,\n",
       " 'is to': 17,\n",
       " 'to insert': 26,\n",
       " 'insert new': 13,\n",
       " 'new value': 20,\n",
       " 'value instead': 29,\n",
       " 'another way of': 2,\n",
       " 'way of dealing': 32,\n",
       " 'of dealing with': 24,\n",
       " 'dealing with empty': 8,\n",
       " 'with empty cells': 35,\n",
       " 'empty cells is': 11,\n",
       " 'cells is to': 5,\n",
       " 'is to insert': 18,\n",
       " 'to insert new': 27,\n",
       " 'insert new value': 14,\n",
       " 'new value instead': 21}"
      ]
     },
     "execution_count": 12,
     "metadata": {},
     "output_type": "execute_result"
    }
   ],
   "source": [
    "cv=CountVectorizer(ngram_range=(1,3))\n",
    "cv.fit([\"Another way of dealing with empty cells is to insert a new value instead.\"])\n",
    "cv.vocabulary_"
   ]
  },
  {
   "cell_type": "code",
   "execution_count": 13,
   "id": "95596b0f",
   "metadata": {},
   "outputs": [
    {
     "data": {
      "text/plain": [
       "{'another way of': 0,\n",
       " 'way of dealing': 9,\n",
       " 'of dealing with': 7,\n",
       " 'dealing with empty': 2,\n",
       " 'with empty cells': 10,\n",
       " 'empty cells is': 3,\n",
       " 'cells is to': 1,\n",
       " 'is to insert': 5,\n",
       " 'to insert new': 8,\n",
       " 'insert new value': 4,\n",
       " 'new value instead': 6}"
      ]
     },
     "execution_count": 13,
     "metadata": {},
     "output_type": "execute_result"
    }
   ],
   "source": [
    "cv=CountVectorizer(ngram_range=(3,3))\n",
    "cv.fit([\"Another way of dealing with empty cells is to insert a new value instead.\"])\n",
    "cv.vocabulary_"
   ]
  },
  {
   "cell_type": "code",
   "execution_count": null,
   "id": "0a6cbc16",
   "metadata": {},
   "outputs": [],
   "source": []
  },
  {
   "cell_type": "code",
   "execution_count": 15,
   "id": "a2353ec2",
   "metadata": {},
   "outputs": [],
   "source": [
    "##"
   ]
  },
  {
   "cell_type": "code",
   "execution_count": 42,
   "id": "9dd3a3bf",
   "metadata": {},
   "outputs": [],
   "source": [
    "corpus=[\"nikhil ate pizzza\",\n",
    "       \"ankit is tall\",\n",
    "       \"ajay is eating pizza\"]\n"
   ]
  },
  {
   "cell_type": "code",
   "execution_count": 43,
   "id": "c6113d33",
   "metadata": {},
   "outputs": [],
   "source": [
    "import spacy\n",
    "nlp=spacy.load(\"en_core_web_sm\")"
   ]
  },
  {
   "cell_type": "code",
   "execution_count": 60,
   "id": "e38774c6",
   "metadata": {},
   "outputs": [],
   "source": [
    "def preprocess(text):\n",
    "    doc=nlp(text)\n",
    "    filtered_token=[]\n",
    "    \n",
    "    for token in doc:\n",
    "        if token.is_stop or token.is_punct:\n",
    "            continue\n",
    "        filtered_token.append(token.lemma_)\n",
    "    return \" \".join(filtered_token)"
   ]
  },
  {
   "cell_type": "code",
   "execution_count": 61,
   "id": "a3d19457",
   "metadata": {},
   "outputs": [
    {
     "data": {
      "text/plain": [
       "'ankit tall'"
      ]
     },
     "execution_count": 61,
     "metadata": {},
     "output_type": "execute_result"
    }
   ],
   "source": [
    "preprocess(\"ankit is tall\")"
   ]
  },
  {
   "cell_type": "code",
   "execution_count": 64,
   "id": "f147b169",
   "metadata": {},
   "outputs": [
    {
     "data": {
      "text/plain": [
       "'nikhil eat pizzza'"
      ]
     },
     "execution_count": 64,
     "metadata": {},
     "output_type": "execute_result"
    }
   ],
   "source": [
    "preprocess(\"nikhil ate pizzza\")"
   ]
  },
  {
   "cell_type": "code",
   "execution_count": 65,
   "id": "b51dae51",
   "metadata": {},
   "outputs": [
    {
     "data": {
      "text/plain": [
       "['nikhil eat pizzza', 'ankit tall', 'ajay eat pizza']"
      ]
     },
     "execution_count": 65,
     "metadata": {},
     "output_type": "execute_result"
    }
   ],
   "source": [
    "corpus_processed=[preprocess(text) for text in corpus]\n",
    "C"
   ]
  },
  {
   "cell_type": "code",
   "execution_count": null,
   "id": "cc2ea17e",
   "metadata": {},
   "outputs": [],
   "source": []
  },
  {
   "cell_type": "code",
   "execution_count": null,
   "id": "ebcfe7dd",
   "metadata": {},
   "outputs": [],
   "source": []
  },
  {
   "cell_type": "code",
   "execution_count": 67,
   "id": "326c3308",
   "metadata": {},
   "outputs": [
    {
     "data": {
      "text/plain": [
       "{'nikhil': 7,\n",
       " 'eat': 4,\n",
       " 'pizzza': 10,\n",
       " 'nikhil eat': 8,\n",
       " 'eat pizzza': 6,\n",
       " 'ankit': 2,\n",
       " 'tall': 11,\n",
       " 'ankit tall': 3,\n",
       " 'ajay': 0,\n",
       " 'pizza': 9,\n",
       " 'ajay eat': 1,\n",
       " 'eat pizza': 5}"
      ]
     },
     "execution_count": 67,
     "metadata": {},
     "output_type": "execute_result"
    }
   ],
   "source": [
    "cv=CountVectorizer(ngram_range=(1,2))\n",
    "cv.fit(corpus_processed)\n",
    "cv.vocabulary_"
   ]
  },
  {
   "cell_type": "code",
   "execution_count": 70,
   "id": "9a649aaa",
   "metadata": {},
   "outputs": [
    {
     "data": {
      "text/plain": [
       "<1x12 sparse matrix of type '<class 'numpy.int64'>'\n",
       "\twith 0 stored elements in Compressed Sparse Row format>"
      ]
     },
     "execution_count": 70,
     "metadata": {},
     "output_type": "execute_result"
    }
   ],
   "source": [
    "cv.transform(['Another way of dealing with empty cells is to insert a new value instead'])\n"
   ]
  },
  {
   "cell_type": "code",
   "execution_count": 71,
   "id": "2d905fb8",
   "metadata": {},
   "outputs": [
    {
     "data": {
      "text/plain": [
       "array([[0, 0, 0, 0, 0, 0, 0, 0, 0, 0, 0, 0]], dtype=int64)"
      ]
     },
     "execution_count": 71,
     "metadata": {},
     "output_type": "execute_result"
    }
   ],
   "source": [
    "cv.transform(['Another way of dealing with empty cells is to insert a new value instead']).toarray()\n"
   ]
  },
  {
   "cell_type": "code",
   "execution_count": null,
   "id": "c6884037",
   "metadata": {},
   "outputs": [],
   "source": []
  }
 ],
 "metadata": {
  "kernelspec": {
   "display_name": "Python 3 (ipykernel)",
   "language": "python",
   "name": "python3"
  },
  "language_info": {
   "codemirror_mode": {
    "name": "ipython",
    "version": 3
   },
   "file_extension": ".py",
   "mimetype": "text/x-python",
   "name": "python",
   "nbconvert_exporter": "python",
   "pygments_lexer": "ipython3",
   "version": "3.9.13"
  }
 },
 "nbformat": 4,
 "nbformat_minor": 5
}
