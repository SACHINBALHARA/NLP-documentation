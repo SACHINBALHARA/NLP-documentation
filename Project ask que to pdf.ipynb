{
 "cells": [
  {
   "cell_type": "code",
   "execution_count": 1,
   "id": "60e0600a",
   "metadata": {},
   "outputs": [
    {
     "ename": "ModuleNotFoundError",
     "evalue": "No module named 'langchain'",
     "output_type": "error",
     "traceback": [
      "\u001b[1;31m---------------------------------------------------------------------------\u001b[0m",
      "\u001b[1;31mModuleNotFoundError\u001b[0m                       Traceback (most recent call last)",
      "\u001b[1;32m~\\AppData\\Local\\Temp\\ipykernel_13844\\2613849240.py\u001b[0m in \u001b[0;36m<module>\u001b[1;34m\u001b[0m\n\u001b[0;32m      1\u001b[0m \u001b[1;32mimport\u001b[0m \u001b[0mstreamlit\u001b[0m \u001b[1;32mas\u001b[0m \u001b[0mst\u001b[0m\u001b[1;33m\u001b[0m\u001b[1;33m\u001b[0m\u001b[0m\n\u001b[0;32m      2\u001b[0m \u001b[1;32mfrom\u001b[0m \u001b[0mPyPDF2\u001b[0m \u001b[1;32mimport\u001b[0m \u001b[0mPdfReader\u001b[0m\u001b[1;33m\u001b[0m\u001b[1;33m\u001b[0m\u001b[0m\n\u001b[1;32m----> 3\u001b[1;33m \u001b[1;32mfrom\u001b[0m \u001b[0mlangchain\u001b[0m\u001b[1;33m.\u001b[0m\u001b[0mtext_splitter\u001b[0m \u001b[1;32mimport\u001b[0m  \u001b[0mCharacterTextSplitter\u001b[0m\u001b[1;33m\u001b[0m\u001b[1;33m\u001b[0m\u001b[0m\n\u001b[0m\u001b[0;32m      4\u001b[0m \u001b[1;32mfrom\u001b[0m \u001b[0mlangchain\u001b[0m\u001b[1;33m.\u001b[0m\u001b[0membeddings\u001b[0m \u001b[1;32mimport\u001b[0m \u001b[0mHuggingFaceEmbeddings\u001b[0m\u001b[1;33m\u001b[0m\u001b[1;33m\u001b[0m\u001b[0m\n\u001b[0;32m      5\u001b[0m \u001b[1;32mfrom\u001b[0m \u001b[0mlangchain\u001b[0m\u001b[1;33m.\u001b[0m\u001b[0mvectorstores\u001b[0m \u001b[1;32mimport\u001b[0m \u001b[0mFAISS\u001b[0m\u001b[1;33m\u001b[0m\u001b[1;33m\u001b[0m\u001b[0m\n",
      "\u001b[1;31mModuleNotFoundError\u001b[0m: No module named 'langchain'"
     ]
    }
   ],
   "source": [
    "import streamlit as st\n",
    "from PyPDF2 import PdfReader\n",
    "from langchain.text_splitter import  CharacterTextSplitter\n",
    "from langchain.embeddings import HuggingFaceEmbeddings\n",
    "from langchain.vectorstores import FAISS\n",
    "from langchain.llms import GooglePalm\n",
    "from langchain.chains.question_answering import load_qa_chain\n",
    "\n",
    "\n",
    "def main():\n",
    "    st.set_page_config(page_title=\"Ask your PDF\",page_icon=\":books:\")\n",
    "    st.title(\"Ask your PDF:books:\")\n",
    "    st.markdown(\"This application is used for asking questions to the Pdf document.\")\n",
    "\n",
    "    # Get user's GooglePalm key\n",
    "    with st.sidebar:\n",
    "        google_api_key = st.text_input(label = \"Google API key\", placeholder=\"Ex sk-2twmA8tfCb8un4...\",\n",
    "        key =\"google_api_key_input\", help = \"How to get a Google api key: Visit https://makersuite.google.com\")\n",
    "\n",
    "        # Container for markdown text\n",
    "\n",
    "        with st.container():\n",
    "            st.markdown(\"\"\"Make sure you have entered your API key.\n",
    "                        Don't have an API key yet?\n",
    "                        Read this: Visit https://makersuite.google.com and login with your google account and Get your API key\"\"\")\n",
    "\n",
    "    \n",
    "\n",
    "    pdf= st.file_uploader(\"Upload your PDF\",type=\"pdf\")\n",
    "    \n",
    "    if pdf is not None:\n",
    "        if not google_api_key:\n",
    "            st.error(\"Kindly enter your Google API key\")\n",
    "        else:\n",
    "            pdf_reader = PdfReader(pdf)\n",
    "            text = \"\"\n",
    "            for page in pdf_reader.pages:\n",
    "                text += page.extract_text()\n",
    "\n",
    "            #st.write(text)\n",
    "\n",
    "            #split into chunks\n",
    "            text_splitter = CharacterTextSplitter(\n",
    "                separator = '\\n',\n",
    "                chunk_size = 1000,\n",
    "                chunk_overlap = 200,\n",
    "                length_function = len\n",
    "            )\n",
    "\n",
    "            chunks = text_splitter.split_text(text)\n",
    "\n",
    "            #embedding the chunks \n",
    "            embeddings = HuggingFaceEmbeddings(\n",
    "                model_name = \"sentence-transformers/all-mpnet-base-v2\",\n",
    "                model_kwargs = {'device':'cpu'},\n",
    "                encode_kwargs = {'normalize_embeddings':False}\n",
    "            )\n",
    "\n",
    "            knowledge_base = FAISS.from_texts(chunks,embeddings)\n",
    "\n",
    "            question = st.text_input(\"Ask a question to your PDF\")\n",
    "            if question:\n",
    "                with st.spinner(\"Processing\"):\n",
    "                    docs = knowledge_base.similarity_search(question)\n",
    "                    llm = GooglePalm(google_api_key=google_api_key,temperature=0.6)\n",
    "                    chain = load_qa_chain(llm=llm,chain_type = \"stuff\",verbose=True)\n",
    "                    response = chain.run(input_documents=docs, question=question)\n",
    "\n",
    "                    st.success(response)\n",
    "\n",
    "\n",
    "if __name__ == \"__main__\":\n",
    "    main()"
   ]
  },
  {
   "cell_type": "code",
   "execution_count": null,
   "id": "666009ab",
   "metadata": {},
   "outputs": [],
   "source": []
  }
 ],
 "metadata": {
  "kernelspec": {
   "display_name": "Python 3 (ipykernel)",
   "language": "python",
   "name": "python3"
  },
  "language_info": {
   "codemirror_mode": {
    "name": "ipython",
    "version": 3
   },
   "file_extension": ".py",
   "mimetype": "text/x-python",
   "name": "python",
   "nbconvert_exporter": "python",
   "pygments_lexer": "ipython3",
   "version": "3.9.13"
  }
 },
 "nbformat": 4,
 "nbformat_minor": 5
}
