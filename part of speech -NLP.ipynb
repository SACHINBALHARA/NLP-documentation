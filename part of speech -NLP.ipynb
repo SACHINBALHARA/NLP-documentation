{
 "cells": [
  {
   "cell_type": "code",
   "execution_count": 1,
   "id": "a786f4e5",
   "metadata": {},
   "outputs": [],
   "source": [
    "import spacy "
   ]
  },
  {
   "cell_type": "code",
   "execution_count": 2,
   "id": "dbadfaf7",
   "metadata": {},
   "outputs": [],
   "source": [
    "nlp=spacy.load(\"en_core_web_sm\")"
   ]
  },
  {
   "cell_type": "code",
   "execution_count": 3,
   "id": "a309f45c",
   "metadata": {},
   "outputs": [
    {
     "name": "stdout",
     "output_type": "stream",
     "text": [
      "After\n",
      "Independence\n",
      ",\n",
      "PM\n",
      "Modi\n",
      "'s\n",
      "govt\n",
      "is\n",
      "only\n",
      "there\n",
      "which\n",
      "won\n",
      "the\n",
      "trust\n",
      "of\n",
      "most\n",
      "of\n",
      "the\n",
      "people\n",
      ".\n"
     ]
    }
   ],
   "source": [
    "doc=nlp(\"After Independence, PM Modi's govt is only there which won the trust of most of the people.\")\n",
    "for token in doc:\n",
    "    print(token)"
   ]
  },
  {
   "cell_type": "code",
   "execution_count": 6,
   "id": "ebd10cd9",
   "metadata": {},
   "outputs": [
    {
     "name": "stdout",
     "output_type": "stream",
     "text": [
      "After | ADP | adposition\n",
      "Independence | PROPN | proper noun\n",
      ", | PUNCT | punctuation\n",
      "PM | PROPN | proper noun\n",
      "Modi | PROPN | proper noun\n",
      "'s | PART | particle\n",
      "govt | NOUN | noun\n",
      "is | AUX | auxiliary\n",
      "only | ADV | adverb\n",
      "there | PRON | pronoun\n",
      "which | PRON | pronoun\n",
      "won | VERB | verb\n",
      "the | DET | determiner\n",
      "trust | NOUN | noun\n",
      "of | ADP | adposition\n",
      "most | ADJ | adjective\n",
      "of | ADP | adposition\n",
      "the | DET | determiner\n",
      "people | NOUN | noun\n",
      ". | PUNCT | punctuation\n"
     ]
    }
   ],
   "source": [
    "doc=nlp(\"After Independence, PM Modi's govt is only there which won the trust of most of the people.\")\n",
    "for token in doc:\n",
    "    print(token,\"|\", token.pos_,\"|\",spacy.explain(token.pos_))"
   ]
  },
  {
   "cell_type": "code",
   "execution_count": 8,
   "id": "09ef5235",
   "metadata": {},
   "outputs": [
    {
     "name": "stdout",
     "output_type": "stream",
     "text": [
      "After  |  ADP  |  adposition  |  IN  |  conjunction, subordinating or preposition\n",
      "Independence  |  PROPN  |  proper noun  |  NNP  |  noun, proper singular\n",
      ",  |  PUNCT  |  punctuation  |  ,  |  punctuation mark, comma\n",
      "PM  |  PROPN  |  proper noun  |  NNP  |  noun, proper singular\n",
      "Modi  |  PROPN  |  proper noun  |  NNP  |  noun, proper singular\n",
      "'s  |  PART  |  particle  |  POS  |  possessive ending\n",
      "govt  |  NOUN  |  noun  |  NN  |  noun, singular or mass\n",
      "is  |  AUX  |  auxiliary  |  VBZ  |  verb, 3rd person singular present\n",
      "only  |  ADV  |  adverb  |  RB  |  adverb\n",
      "there  |  PRON  |  pronoun  |  EX  |  existential there\n",
      "which  |  PRON  |  pronoun  |  WDT  |  wh-determiner\n",
      "won  |  VERB  |  verb  |  VBD  |  verb, past tense\n",
      "the  |  DET  |  determiner  |  DT  |  determiner\n",
      "trust  |  NOUN  |  noun  |  NN  |  noun, singular or mass\n",
      "of  |  ADP  |  adposition  |  IN  |  conjunction, subordinating or preposition\n",
      "most  |  ADJ  |  adjective  |  JJS  |  adjective, superlative\n",
      "of  |  ADP  |  adposition  |  IN  |  conjunction, subordinating or preposition\n",
      "the  |  DET  |  determiner  |  DT  |  determiner\n",
      "people  |  NOUN  |  noun  |  NNS  |  noun, plural\n",
      ".  |  PUNCT  |  punctuation  |  .  |  punctuation mark, sentence closer\n"
     ]
    }
   ],
   "source": [
    "doc=nlp(\"After Independence, PM Modi's govt is only there which won the trust of most of the people.\")\n",
    "for token in doc:\n",
    "    print(token,\" | \", token.pos_,\" | \",spacy.explain(token.pos_),\" | \",token.tag_,\" | \",spacy.explain(token.tag_))"
   ]
  },
  {
   "cell_type": "code",
   "execution_count": 9,
   "id": "0231c0d1",
   "metadata": {},
   "outputs": [
    {
     "name": "stdout",
     "output_type": "stream",
     "text": [
      "quits  |  VBZ  |  verb, 3rd person singular present\n"
     ]
    }
   ],
   "source": [
    "doc=nlp(\"he quits the job\")\n",
    "doc[1]\n",
    "print(doc[1].text,\" | \",doc[1].tag_,\" | \",spacy.explain(doc[1].tag_))"
   ]
  },
  {
   "cell_type": "code",
   "execution_count": 10,
   "id": "ad2a096f",
   "metadata": {},
   "outputs": [
    {
     "name": "stdout",
     "output_type": "stream",
     "text": [
      "quit  |  VBD  |  verb, past tense\n"
     ]
    }
   ],
   "source": [
    "doc=nlp(\"he quit the job\")\n",
    "doc[1]\n",
    "print(doc[1].text,\" | \",doc[1].tag_,\" | \",spacy.explain(doc[1].tag_))"
   ]
  },
  {
   "cell_type": "code",
   "execution_count": 11,
   "id": "609d903c",
   "metadata": {},
   "outputs": [
    {
     "name": "stdout",
     "output_type": "stream",
     "text": [
      "he  |  PRP  |  pronoun, personal\n"
     ]
    }
   ],
   "source": [
    "doc=nlp(\"he quits the job\")\n",
    "doc[0]\n",
    "print(doc[0].text,\" | \",doc[0].tag_,\" | \",spacy.explain(doc[0].tag_))"
   ]
  },
  {
   "cell_type": "code",
   "execution_count": null,
   "id": "28a56ce0",
   "metadata": {},
   "outputs": [],
   "source": []
  },
  {
   "cell_type": "code",
   "execution_count": 12,
   "id": "eb9e3f80",
   "metadata": {},
   "outputs": [],
   "source": [
    "# remove unwanted text like ( comma, punt , etc.) from our text  "
   ]
  },
  {
   "cell_type": "code",
   "execution_count": null,
   "id": "7c92f8c9",
   "metadata": {},
   "outputs": [],
   "source": []
  },
  {
   "cell_type": "code",
   "execution_count": 21,
   "id": "6e874efe",
   "metadata": {},
   "outputs": [
    {
     "name": "stdout",
     "output_type": "stream",
     "text": [
      "Home  |  PROPN  |  proper noun\n",
      "Minister  |  PROPN  |  proper noun\n",
      "Amit  |  PROPN  |  proper noun\n",
      "Shah  |  PROPN  |  proper noun\n",
      ",  |  PUNCT  |  punctuation\n",
      "on  |  ADP  |  adposition\n",
      "Wednesday  |  PROPN  |  proper noun\n",
      ",  |  PUNCT  |  punctuation\n",
      "said  |  VERB  |  verb\n",
      "that  |  SCONJ  |  subordinating conjunction\n",
      "no  |  DET  |  determiner\n",
      "one  |  NOUN  |  noun\n",
      "can  |  AUX  |  auxiliary\n",
      "dare  |  VERB  |  verb\n",
      "to  |  PART  |  particle\n",
      "pelt  |  VERB  |  verb\n",
      "stones  |  NOUN  |  noun\n",
      "in  |  ADP  |  adposition\n",
      "Kashmir  |  PROPN  |  proper noun\n",
      "under  |  ADP  |  adposition\n",
      "the  |  DET  |  determiner\n",
      "Narendra  |  PROPN  |  proper noun\n",
      "Modi  |  PROPN  |  proper noun\n",
      "government  |  NOUN  |  noun\n",
      ".  |  PUNCT  |  punctuation\n",
      "In  |  ADP  |  adposition\n",
      "his  |  PRON  |  pronoun\n",
      "response  |  NOUN  |  noun\n",
      "to  |  ADP  |  adposition\n",
      "the  |  DET  |  determiner\n",
      "no  |  DET  |  determiner\n",
      "-  |  PUNCT  |  punctuation\n",
      "confidence  |  NOUN  |  noun\n",
      "motion  |  NOUN  |  noun\n",
      "in  |  ADP  |  adposition\n",
      "the  |  DET  |  determiner\n",
      "Lok  |  PROPN  |  proper noun\n",
      "Sabha  |  PROPN  |  proper noun\n",
      ",  |  PUNCT  |  punctuation\n",
      "Shah  |  PROPN  |  proper noun\n",
      "said  |  VERB  |  verb\n",
      "that  |  SCONJ  |  subordinating conjunction\n",
      "the  |  DET  |  determiner\n",
      "government  |  NOUN  |  noun\n",
      "'s  |  PART  |  particle\n",
      "policies  |  NOUN  |  noun\n",
      "in  |  ADP  |  adposition\n",
      "Jammu  |  PROPN  |  proper noun\n",
      "and  |  CCONJ  |  coordinating conjunction\n",
      "Kashmir  |  PROPN  |  proper noun\n",
      "have  |  AUX  |  auxiliary\n",
      "given  |  VERB  |  verb\n",
      "a  |  DET  |  determiner\n",
      "new  |  ADJ  |  adjective\n",
      "face  |  NOUN  |  noun\n",
      "to  |  ADP  |  adposition\n",
      "Kashmir  |  PROPN  |  proper noun\n",
      ".  |  PUNCT  |  punctuation\n"
     ]
    }
   ],
   "source": [
    "text=\"Home Minister Amit Shah, on Wednesday, said that no one can dare to pelt stones in Kashmir under the Narendra Modi government. In his response to the no-confidence motion in the Lok Sabha, Shah said that the government's policies in Jammu and Kashmir have given a new face to Kashmir.\"\n",
    "\n",
    "doc=nlp(text)\n",
    "for token in doc:\n",
    "    print(token,\" | \", token.pos_,\" | \",spacy.explain(token.pos_))"
   ]
  },
  {
   "cell_type": "code",
   "execution_count": 23,
   "id": "6f7e9c96",
   "metadata": {},
   "outputs": [
    {
     "name": "stdout",
     "output_type": "stream",
     "text": [
      ",  |  PUNCT  |  punctuation\n",
      ",  |  PUNCT  |  punctuation\n",
      "to  |  PART  |  particle\n",
      ".  |  PUNCT  |  punctuation\n",
      "-  |  PUNCT  |  punctuation\n",
      ",  |  PUNCT  |  punctuation\n",
      "'s  |  PART  |  particle\n",
      ".  |  PUNCT  |  punctuation\n"
     ]
    }
   ],
   "source": [
    "text=\"Home Minister Amit Shah, on Wednesday, said that no one can dare to pelt stones in Kashmir under the Narendra Modi government. In his response to the no-confidence motion in the Lok Sabha, Shah said that the government's policies in Jammu and Kashmir have given a new face to Kashmir.\"\n",
    "\n",
    "doc=nlp(text)\n",
    "for token in doc:\n",
    "    if token.pos_ in ['PUNCT','PART']:\n",
    "        print(token,\" | \", token.pos_,\" | \",spacy.explain(token.pos_))\n",
    "    "
   ]
  },
  {
   "cell_type": "code",
   "execution_count": 32,
   "id": "66e17e6a",
   "metadata": {},
   "outputs": [
    {
     "name": "stdout",
     "output_type": "stream",
     "text": [
      "Home  |  PROPN  |  proper noun\n",
      "Minister  |  PROPN  |  proper noun\n",
      "Amit  |  PROPN  |  proper noun\n",
      "Shah  |  PROPN  |  proper noun\n",
      "on  |  ADP  |  adposition\n",
      "Wednesday  |  PROPN  |  proper noun\n",
      "said  |  VERB  |  verb\n",
      "that  |  SCONJ  |  subordinating conjunction\n",
      "no  |  DET  |  determiner\n",
      "one  |  NOUN  |  noun\n",
      "can  |  AUX  |  auxiliary\n",
      "dare  |  VERB  |  verb\n",
      "pelt  |  VERB  |  verb\n",
      "stones  |  NOUN  |  noun\n",
      "in  |  ADP  |  adposition\n",
      "Kashmir  |  PROPN  |  proper noun\n",
      "under  |  ADP  |  adposition\n",
      "the  |  DET  |  determiner\n",
      "Narendra  |  PROPN  |  proper noun\n",
      "Modi  |  PROPN  |  proper noun\n",
      "government  |  NOUN  |  noun\n",
      "In  |  ADP  |  adposition\n",
      "his  |  PRON  |  pronoun\n",
      "response  |  NOUN  |  noun\n",
      "to  |  ADP  |  adposition\n",
      "the  |  DET  |  determiner\n",
      "no  |  DET  |  determiner\n",
      "confidence  |  NOUN  |  noun\n",
      "motion  |  NOUN  |  noun\n",
      "in  |  ADP  |  adposition\n",
      "the  |  DET  |  determiner\n",
      "Lok  |  PROPN  |  proper noun\n",
      "Sabha  |  PROPN  |  proper noun\n",
      "Shah  |  PROPN  |  proper noun\n",
      "said  |  VERB  |  verb\n",
      "that  |  SCONJ  |  subordinating conjunction\n",
      "the  |  DET  |  determiner\n",
      "government  |  NOUN  |  noun\n",
      "policies  |  NOUN  |  noun\n",
      "in  |  ADP  |  adposition\n",
      "Jammu  |  PROPN  |  proper noun\n",
      "and  |  CCONJ  |  coordinating conjunction\n",
      "Kashmir  |  PROPN  |  proper noun\n",
      "have  |  AUX  |  auxiliary\n",
      "given  |  VERB  |  verb\n",
      "a  |  DET  |  determiner\n",
      "new  |  ADJ  |  adjective\n",
      "face  |  NOUN  |  noun\n",
      "to  |  ADP  |  adposition\n",
      "Kashmir  |  PROPN  |  proper noun\n"
     ]
    }
   ],
   "source": [
    "text=\"Home Minister Amit Shah, on Wednesday, said that no one can dare to pelt stones in Kashmir under the Narendra Modi government. In his response to the no-confidence motion in the Lok Sabha, Shah said that the government's policies in Jammu and Kashmir have given a new face to Kashmir.\"\n",
    "\n",
    "doc=nlp(text)\n",
    "\n",
    "for token in doc:\n",
    "    if token.pos_ not in ['PUNCT','PART']:\n",
    "        print(token,\" | \", token.pos_,\" | \",spacy.explain(token.pos_))\n",
    "    "
   ]
  },
  {
   "cell_type": "code",
   "execution_count": 35,
   "id": "aa0addbe",
   "metadata": {},
   "outputs": [
    {
     "name": "stdout",
     "output_type": "stream",
     "text": [
      "Home  |  PROPN  |  proper noun\n",
      "Minister  |  PROPN  |  proper noun\n",
      "Amit  |  PROPN  |  proper noun\n",
      "Shah  |  PROPN  |  proper noun\n",
      "on  |  ADP  |  adposition\n",
      "Wednesday  |  PROPN  |  proper noun\n",
      "said  |  VERB  |  verb\n",
      "that  |  SCONJ  |  subordinating conjunction\n",
      "no  |  DET  |  determiner\n",
      "one  |  NOUN  |  noun\n",
      "can  |  AUX  |  auxiliary\n",
      "dare  |  VERB  |  verb\n",
      "pelt  |  VERB  |  verb\n",
      "stones  |  NOUN  |  noun\n",
      "in  |  ADP  |  adposition\n",
      "Kashmir  |  PROPN  |  proper noun\n",
      "under  |  ADP  |  adposition\n",
      "the  |  DET  |  determiner\n",
      "Narendra  |  PROPN  |  proper noun\n",
      "Modi  |  PROPN  |  proper noun\n",
      "government  |  NOUN  |  noun\n",
      "In  |  ADP  |  adposition\n",
      "his  |  PRON  |  pronoun\n",
      "response  |  NOUN  |  noun\n",
      "to  |  ADP  |  adposition\n",
      "the  |  DET  |  determiner\n",
      "no  |  DET  |  determiner\n",
      "confidence  |  NOUN  |  noun\n",
      "motion  |  NOUN  |  noun\n",
      "in  |  ADP  |  adposition\n",
      "the  |  DET  |  determiner\n",
      "Lok  |  PROPN  |  proper noun\n",
      "Sabha  |  PROPN  |  proper noun\n",
      "Shah  |  PROPN  |  proper noun\n",
      "said  |  VERB  |  verb\n",
      "that  |  SCONJ  |  subordinating conjunction\n",
      "the  |  DET  |  determiner\n",
      "government  |  NOUN  |  noun\n",
      "policies  |  NOUN  |  noun\n",
      "in  |  ADP  |  adposition\n",
      "Jammu  |  PROPN  |  proper noun\n",
      "and  |  CCONJ  |  coordinating conjunction\n",
      "Kashmir  |  PROPN  |  proper noun\n",
      "have  |  AUX  |  auxiliary\n",
      "given  |  VERB  |  verb\n",
      "a  |  DET  |  determiner\n",
      "new  |  ADJ  |  adjective\n",
      "face  |  NOUN  |  noun\n",
      "to  |  ADP  |  adposition\n",
      "Kashmir  |  PROPN  |  proper noun\n"
     ]
    }
   ],
   "source": [
    "text=\"Home Minister Amit Shah, on Wednesday, said that no one can dare to pelt stones in Kashmir under the Narendra Modi government. In his response to the no-confidence motion in the Lok Sabha, Shah said that the government's policies in Jammu and Kashmir have given a new face to Kashmir.\"\n",
    "\n",
    "\n",
    "doc=nlp(text)\n",
    "extracted=[]\n",
    "for token in doc:\n",
    "    if token.pos_ not in ['PUNCT','PART']:\n",
    "        print(token,\" | \",token.pos_,\" | \",spacy.explain(token.pos_))\n",
    "        \n",
    "    \n",
    "    "
   ]
  },
  {
   "cell_type": "code",
   "execution_count": 37,
   "id": "f2ab320d",
   "metadata": {},
   "outputs": [],
   "source": [
    "doc=nlp(text)\n",
    "extracted=[]\n",
    "for token in doc:\n",
    "    if token.pos_ not in ['PUNCT','PART']:\n",
    "        extracted.append(token)\n",
    "       "
   ]
  },
  {
   "cell_type": "code",
   "execution_count": 39,
   "id": "0647f10b",
   "metadata": {},
   "outputs": [
    {
     "data": {
      "text/plain": [
       "[Home,\n",
       " Minister,\n",
       " Amit,\n",
       " Shah,\n",
       " on,\n",
       " Wednesday,\n",
       " said,\n",
       " that,\n",
       " no,\n",
       " one,\n",
       " can,\n",
       " dare,\n",
       " pelt,\n",
       " stones,\n",
       " in,\n",
       " Kashmir,\n",
       " under,\n",
       " the,\n",
       " Narendra,\n",
       " Modi]"
      ]
     },
     "execution_count": 39,
     "metadata": {},
     "output_type": "execute_result"
    }
   ],
   "source": [
    "extracted[:20]"
   ]
  },
  {
   "cell_type": "code",
   "execution_count": 40,
   "id": "20d7ef4e",
   "metadata": {},
   "outputs": [],
   "source": [
    "# number of paricular pos in above text"
   ]
  },
  {
   "cell_type": "code",
   "execution_count": 42,
   "id": "fdd3aa37",
   "metadata": {},
   "outputs": [
    {
     "data": {
      "text/plain": [
       "{96: 14,\n",
       " 97: 6,\n",
       " 85: 8,\n",
       " 100: 5,\n",
       " 98: 2,\n",
       " 90: 7,\n",
       " 92: 9,\n",
       " 87: 2,\n",
       " 94: 2,\n",
       " 95: 1,\n",
       " 89: 1,\n",
       " 84: 1}"
      ]
     },
     "execution_count": 42,
     "metadata": {},
     "output_type": "execute_result"
    }
   ],
   "source": [
    "count=doc.count_by(spacy.attrs.POS)\n",
    "count"
   ]
  },
  {
   "cell_type": "code",
   "execution_count": 44,
   "id": "652de872",
   "metadata": {},
   "outputs": [
    {
     "data": {
      "text/plain": [
       "'PROPN'"
      ]
     },
     "execution_count": 44,
     "metadata": {},
     "output_type": "execute_result"
    }
   ],
   "source": [
    "doc.vocab[96].text"
   ]
  },
  {
   "cell_type": "code",
   "execution_count": 51,
   "id": "f40ccb08",
   "metadata": {},
   "outputs": [
    {
     "data": {
      "text/plain": [
       "dict_items([(96, 14), (97, 6), (85, 8), (100, 5), (98, 2), (90, 7), (92, 9), (87, 2), (94, 2), (95, 1), (89, 1), (84, 1)])"
      ]
     },
     "execution_count": 51,
     "metadata": {},
     "output_type": "execute_result"
    }
   ],
   "source": [
    "x=count.items()\n",
    "x"
   ]
  },
  {
   "cell_type": "code",
   "execution_count": 50,
   "id": "39ec74ff",
   "metadata": {},
   "outputs": [
    {
     "name": "stdout",
     "output_type": "stream",
     "text": [
      "PROPN  |  14\n",
      "PUNCT  |  6\n",
      "ADP  |  8\n",
      "VERB  |  5\n",
      "SCONJ  |  2\n",
      "DET  |  7\n",
      "NOUN  |  9\n",
      "AUX  |  2\n",
      "PART  |  2\n",
      "PRON  |  1\n",
      "CCONJ  |  1\n",
      "ADJ  |  1\n"
     ]
    }
   ],
   "source": [
    "for k,v in x:\n",
    "    print(doc.vocab[k].text,\" | \",v)"
   ]
  },
  {
   "cell_type": "code",
   "execution_count": null,
   "id": "caf4f070",
   "metadata": {},
   "outputs": [],
   "source": []
  },
  {
   "cell_type": "markdown",
   "id": "a8b1d033",
   "metadata": {},
   "source": [
    "# exercise"
   ]
  },
  {
   "cell_type": "raw",
   "id": "b67855a3",
   "metadata": {},
   "source": [
    "1 .Exercise for Spacy POS tutorial,\n",
    "\n",
    "You are parsing a news story from cnbc.com. News story is stores in news_story.txt which is available in this same folder on github. You need to,\n",
    "\n",
    "(a) Extract all NOUN tokens from this story. You will have to read the file in python first to collect all the text and then extract NOUNs in a python list\n",
    "(B) Extract all numbers (NUM POS type) in a python list\n",
    "(C) Print a count of all POS tags in this story"
   ]
  },
  {
   "cell_type": "code",
   "execution_count": null,
   "id": "eb692636",
   "metadata": {},
   "outputs": [],
   "source": []
  },
  {
   "cell_type": "code",
   "execution_count": 56,
   "id": "0485a1be",
   "metadata": {},
   "outputs": [],
   "source": [
    "text=\"Inflation rose again in April, continuing a climb that has pushed consumers to the brink and is threatening the economic expansion, the Bureau of Labor Statistics reported WednesdaThe consumer price index, a broad-based measure of prices for goods and services, increased 8.3% from a year ago, higher than the Dow Jones estimate for an 8.1% gain. That represented a slight ease from March’s peak but was still close to the highest level since the summer of 1982Removing volatile food and energy prices, so-called core CPI still rose 6.2%, against expectations for a 6% gain, clouding hopes that inflation had peaked in March.The month-over-month gains also were higher than expectations — 0.3% on headline CPI versus the 0.2% estimate and a 0.6% increase for core, against the outlook for a 0.4% gain.The price gains also meant that workers continued to lose ground. Real wages adjusted for inflation decreased 0.1% on the month despite a nominal increase of 0.3% in average hourly earnings. Over the past year, real earnings have dropped 2.6% even though average hourly earnings are up 5.5%.Inflation has been the single biggest threat to a recovery that began early in the Covid pandemic and saw the economy in 2021 stage its biggest single-year growth level since 1984. Rising prices at the pump and in grocery stores have been one problem, but inflation has spread beyond those two areas into housing, auto sales and a host of other areas.Federal Reserve officials have responded to the problem with two interest rate hikes so far this year and pledges of more until inflation comes down to the central bank’s 2% goal. However, Wednesday’s data shows that the Fed has a big job ahead.\"\n",
    "\n",
    "doc=nlp(text)"
   ]
  },
  {
   "cell_type": "code",
   "execution_count": 58,
   "id": "7b02cb1f",
   "metadata": {
    "collapsed": true
   },
   "outputs": [
    {
     "name": "stdout",
     "output_type": "stream",
     "text": [
      "Inflation  |  NOUN\n",
      "rose  |  VERB\n",
      "again  |  ADV\n",
      "in  |  ADP\n",
      "April  |  PROPN\n",
      ",  |  PUNCT\n",
      "continuing  |  VERB\n",
      "a  |  DET\n",
      "climb  |  NOUN\n",
      "that  |  PRON\n",
      "has  |  AUX\n",
      "pushed  |  VERB\n",
      "consumers  |  NOUN\n",
      "to  |  ADP\n",
      "the  |  DET\n",
      "brink  |  NOUN\n",
      "and  |  CCONJ\n",
      "is  |  AUX\n",
      "threatening  |  VERB\n",
      "the  |  DET\n",
      "economic  |  ADJ\n",
      "expansion  |  NOUN\n",
      ",  |  PUNCT\n",
      "the  |  DET\n",
      "Bureau  |  PROPN\n",
      "of  |  ADP\n",
      "Labor  |  PROPN\n",
      "Statistics  |  PROPN\n",
      "reported  |  VERB\n",
      "WednesdaThe  |  PROPN\n",
      "consumer  |  NOUN\n",
      "price  |  NOUN\n",
      "index  |  NOUN\n",
      ",  |  PUNCT\n",
      "a  |  DET\n",
      "broad  |  ADV\n",
      "-  |  PUNCT\n",
      "based  |  VERB\n",
      "measure  |  NOUN\n",
      "of  |  ADP\n",
      "prices  |  NOUN\n",
      "for  |  ADP\n",
      "goods  |  NOUN\n",
      "and  |  CCONJ\n",
      "services  |  NOUN\n",
      ",  |  PUNCT\n",
      "increased  |  VERB\n",
      "8.3  |  NUM\n",
      "%  |  NOUN\n",
      "from  |  ADP\n",
      "a  |  DET\n",
      "year  |  NOUN\n",
      "ago  |  ADV\n",
      ",  |  PUNCT\n",
      "higher  |  ADJ\n",
      "than  |  ADP\n",
      "the  |  DET\n",
      "Dow  |  PROPN\n",
      "Jones  |  PROPN\n",
      "estimate  |  NOUN\n",
      "for  |  ADP\n",
      "an  |  DET\n",
      "8.1  |  NUM\n",
      "%  |  NOUN\n",
      "gain  |  NOUN\n",
      ".  |  PUNCT\n",
      "That  |  PRON\n",
      "represented  |  VERB\n",
      "a  |  DET\n",
      "slight  |  ADJ\n",
      "ease  |  NOUN\n",
      "from  |  ADP\n",
      "March  |  PROPN\n",
      "’s  |  PART\n",
      "peak  |  NOUN\n",
      "but  |  CCONJ\n",
      "was  |  AUX\n",
      "still  |  ADV\n",
      "close  |  ADJ\n",
      "to  |  ADP\n",
      "the  |  DET\n",
      "highest  |  ADJ\n",
      "level  |  NOUN\n",
      "since  |  SCONJ\n",
      "the  |  DET\n",
      "summer  |  NOUN\n",
      "of  |  ADP\n",
      "1982Removing  |  NUM\n",
      "volatile  |  ADJ\n",
      "food  |  NOUN\n",
      "and  |  CCONJ\n",
      "energy  |  NOUN\n",
      "prices  |  NOUN\n",
      ",  |  PUNCT\n",
      "so  |  ADV\n",
      "-  |  PUNCT\n",
      "called  |  VERB\n",
      "core  |  NOUN\n",
      "CPI  |  PROPN\n",
      "still  |  ADV\n",
      "rose  |  VERB\n",
      "6.2  |  NUM\n",
      "%  |  NOUN\n",
      ",  |  PUNCT\n",
      "against  |  ADP\n",
      "expectations  |  NOUN\n",
      "for  |  ADP\n",
      "a  |  DET\n",
      "6  |  NUM\n",
      "%  |  NOUN\n",
      "gain  |  NOUN\n",
      ",  |  PUNCT\n",
      "clouding  |  VERB\n",
      "hopes  |  NOUN\n",
      "that  |  SCONJ\n",
      "inflation  |  NOUN\n",
      "had  |  AUX\n",
      "peaked  |  VERB\n",
      "in  |  ADP\n",
      "March  |  PROPN\n",
      ".  |  PUNCT\n",
      "The  |  DET\n",
      "month  |  NOUN\n",
      "-  |  PUNCT\n",
      "over  |  ADP\n",
      "-  |  PUNCT\n",
      "month  |  NOUN\n",
      "gains  |  NOUN\n",
      "also  |  ADV\n",
      "were  |  AUX\n",
      "higher  |  ADJ\n",
      "than  |  ADP\n",
      "expectations  |  NOUN\n",
      "—  |  PUNCT\n",
      "0.3  |  NUM\n",
      "%  |  NOUN\n",
      "on  |  ADP\n",
      "headline  |  NOUN\n",
      "CPI  |  PROPN\n",
      "versus  |  ADP\n",
      "the  |  DET\n",
      "0.2  |  NUM\n",
      "%  |  NOUN\n",
      "estimate  |  NOUN\n",
      "and  |  CCONJ\n",
      "a  |  DET\n",
      "0.6  |  NUM\n",
      "%  |  NOUN\n",
      "increase  |  NOUN\n",
      "for  |  ADP\n",
      "core  |  NOUN\n",
      ",  |  PUNCT\n",
      "against  |  ADP\n",
      "the  |  DET\n",
      "outlook  |  NOUN\n",
      "for  |  ADP\n",
      "a  |  DET\n",
      "0.4  |  NUM\n",
      "%  |  NOUN\n",
      "gain  |  NOUN\n",
      ".  |  PUNCT\n",
      "The  |  DET\n",
      "price  |  NOUN\n",
      "gains  |  NOUN\n",
      "also  |  ADV\n",
      "meant  |  VERB\n",
      "that  |  SCONJ\n",
      "workers  |  NOUN\n",
      "continued  |  VERB\n",
      "to  |  PART\n",
      "lose  |  VERB\n",
      "ground  |  NOUN\n",
      ".  |  PUNCT\n",
      "Real  |  ADJ\n",
      "wages  |  NOUN\n",
      "adjusted  |  VERB\n",
      "for  |  ADP\n",
      "inflation  |  NOUN\n",
      "decreased  |  VERB\n",
      "0.1  |  NUM\n",
      "%  |  NOUN\n",
      "on  |  ADP\n",
      "the  |  DET\n",
      "month  |  NOUN\n",
      "despite  |  SCONJ\n",
      "a  |  DET\n",
      "nominal  |  ADJ\n",
      "increase  |  NOUN\n",
      "of  |  ADP\n",
      "0.3  |  NUM\n",
      "%  |  NOUN\n",
      "in  |  ADP\n",
      "average  |  ADJ\n",
      "hourly  |  ADJ\n",
      "earnings  |  NOUN\n",
      ".  |  PUNCT\n",
      "Over  |  ADP\n",
      "the  |  DET\n",
      "past  |  ADJ\n",
      "year  |  NOUN\n",
      ",  |  PUNCT\n",
      "real  |  ADJ\n",
      "earnings  |  NOUN\n",
      "have  |  AUX\n",
      "dropped  |  VERB\n",
      "2.6  |  NUM\n",
      "%  |  NOUN\n",
      "even  |  ADV\n",
      "though  |  SCONJ\n",
      "average  |  ADJ\n",
      "hourly  |  ADJ\n",
      "earnings  |  NOUN\n",
      "are  |  AUX\n",
      "up  |  ADV\n",
      "5.5%.Inflation  |  NUM\n",
      "has  |  AUX\n",
      "been  |  AUX\n",
      "the  |  DET\n",
      "single  |  ADJ\n",
      "biggest  |  ADJ\n",
      "threat  |  NOUN\n",
      "to  |  ADP\n",
      "a  |  DET\n",
      "recovery  |  NOUN\n",
      "that  |  PRON\n",
      "began  |  VERB\n",
      "early  |  ADV\n",
      "in  |  ADP\n",
      "the  |  DET\n",
      "Covid  |  PROPN\n",
      "pandemic  |  NOUN\n",
      "and  |  CCONJ\n",
      "saw  |  VERB\n",
      "the  |  DET\n",
      "economy  |  NOUN\n",
      "in  |  ADP\n",
      "2021  |  NUM\n",
      "stage  |  NOUN\n",
      "its  |  PRON\n",
      "biggest  |  ADJ\n",
      "single  |  ADJ\n",
      "-  |  PUNCT\n",
      "year  |  NOUN\n",
      "growth  |  NOUN\n",
      "level  |  NOUN\n",
      "since  |  SCONJ\n",
      "1984  |  NUM\n",
      ".  |  PUNCT\n",
      "Rising  |  VERB\n",
      "prices  |  NOUN\n",
      "at  |  ADP\n",
      "the  |  DET\n",
      "pump  |  NOUN\n",
      "and  |  CCONJ\n",
      "in  |  ADP\n",
      "grocery  |  NOUN\n",
      "stores  |  NOUN\n",
      "have  |  AUX\n",
      "been  |  AUX\n",
      "one  |  NUM\n",
      "problem  |  NOUN\n",
      ",  |  PUNCT\n",
      "but  |  CCONJ\n",
      "inflation  |  NOUN\n",
      "has  |  AUX\n",
      "spread  |  VERB\n",
      "beyond  |  ADP\n",
      "those  |  DET\n",
      "two  |  NUM\n",
      "areas  |  NOUN\n",
      "into  |  ADP\n",
      "housing  |  NOUN\n",
      ",  |  PUNCT\n",
      "auto  |  NOUN\n",
      "sales  |  NOUN\n",
      "and  |  CCONJ\n",
      "a  |  DET\n",
      "host  |  NOUN\n",
      "of  |  ADP\n",
      "other  |  ADJ\n",
      "areas  |  NOUN\n",
      ".  |  PUNCT\n",
      "Federal  |  PROPN\n",
      "Reserve  |  PROPN\n",
      "officials  |  NOUN\n",
      "have  |  AUX\n",
      "responded  |  VERB\n",
      "to  |  ADP\n",
      "the  |  DET\n",
      "problem  |  NOUN\n",
      "with  |  ADP\n",
      "two  |  NUM\n",
      "interest  |  NOUN\n",
      "rate  |  NOUN\n",
      "hikes  |  NOUN\n",
      "so  |  ADV\n",
      "far  |  ADV\n",
      "this  |  DET\n",
      "year  |  NOUN\n",
      "and  |  CCONJ\n",
      "pledges  |  NOUN\n",
      "of  |  ADP\n",
      "more  |  ADJ\n",
      "until  |  SCONJ\n",
      "inflation  |  NOUN\n",
      "comes  |  VERB\n",
      "down  |  ADP\n",
      "to  |  ADP\n",
      "the  |  DET\n",
      "central  |  ADJ\n",
      "bank  |  NOUN\n",
      "’s  |  PART\n",
      "2  |  NUM\n",
      "%  |  NOUN\n",
      "goal  |  NOUN\n",
      ".  |  PUNCT\n",
      "However  |  ADV\n",
      ",  |  PUNCT\n",
      "Wednesday  |  PROPN\n",
      "’s  |  PART\n",
      "data  |  NOUN\n",
      "shows  |  VERB\n",
      "that  |  SCONJ\n",
      "the  |  DET\n",
      "Fed  |  PROPN\n",
      "has  |  VERB\n",
      "a  |  DET\n",
      "big  |  ADJ\n",
      "job  |  NOUN\n",
      "ahead  |  ADV\n",
      ".  |  PUNCT\n"
     ]
    }
   ],
   "source": [
    "for token in doc:\n",
    "    print(token,\" | \",token.pos_)"
   ]
  },
  {
   "cell_type": "code",
   "execution_count": 63,
   "id": "4090aa79",
   "metadata": {
    "collapsed": true
   },
   "outputs": [
    {
     "name": "stdout",
     "output_type": "stream",
     "text": [
      "Inflation  |  NOUN\n",
      "climb  |  NOUN\n",
      "consumers  |  NOUN\n",
      "brink  |  NOUN\n",
      "expansion  |  NOUN\n",
      "consumer  |  NOUN\n",
      "price  |  NOUN\n",
      "index  |  NOUN\n",
      "measure  |  NOUN\n",
      "prices  |  NOUN\n",
      "goods  |  NOUN\n",
      "services  |  NOUN\n",
      "%  |  NOUN\n",
      "year  |  NOUN\n",
      "estimate  |  NOUN\n",
      "%  |  NOUN\n",
      "gain  |  NOUN\n",
      "ease  |  NOUN\n",
      "peak  |  NOUN\n",
      "level  |  NOUN\n",
      "summer  |  NOUN\n",
      "food  |  NOUN\n",
      "energy  |  NOUN\n",
      "prices  |  NOUN\n",
      "core  |  NOUN\n",
      "%  |  NOUN\n",
      "expectations  |  NOUN\n",
      "%  |  NOUN\n",
      "gain  |  NOUN\n",
      "hopes  |  NOUN\n",
      "inflation  |  NOUN\n",
      "month  |  NOUN\n",
      "month  |  NOUN\n",
      "gains  |  NOUN\n",
      "expectations  |  NOUN\n",
      "%  |  NOUN\n",
      "headline  |  NOUN\n",
      "%  |  NOUN\n",
      "estimate  |  NOUN\n",
      "%  |  NOUN\n",
      "increase  |  NOUN\n",
      "core  |  NOUN\n",
      "outlook  |  NOUN\n",
      "%  |  NOUN\n",
      "gain  |  NOUN\n",
      "price  |  NOUN\n",
      "gains  |  NOUN\n",
      "workers  |  NOUN\n",
      "ground  |  NOUN\n",
      "wages  |  NOUN\n",
      "inflation  |  NOUN\n",
      "%  |  NOUN\n",
      "month  |  NOUN\n",
      "increase  |  NOUN\n",
      "%  |  NOUN\n",
      "earnings  |  NOUN\n",
      "year  |  NOUN\n",
      "earnings  |  NOUN\n",
      "%  |  NOUN\n",
      "earnings  |  NOUN\n",
      "threat  |  NOUN\n",
      "recovery  |  NOUN\n",
      "pandemic  |  NOUN\n",
      "economy  |  NOUN\n",
      "stage  |  NOUN\n",
      "year  |  NOUN\n",
      "growth  |  NOUN\n",
      "level  |  NOUN\n",
      "prices  |  NOUN\n",
      "pump  |  NOUN\n",
      "grocery  |  NOUN\n",
      "stores  |  NOUN\n",
      "problem  |  NOUN\n",
      "inflation  |  NOUN\n",
      "areas  |  NOUN\n",
      "housing  |  NOUN\n",
      "auto  |  NOUN\n",
      "sales  |  NOUN\n",
      "host  |  NOUN\n",
      "areas  |  NOUN\n",
      "officials  |  NOUN\n",
      "problem  |  NOUN\n",
      "interest  |  NOUN\n",
      "rate  |  NOUN\n",
      "hikes  |  NOUN\n",
      "year  |  NOUN\n",
      "pledges  |  NOUN\n",
      "inflation  |  NOUN\n",
      "bank  |  NOUN\n",
      "%  |  NOUN\n",
      "goal  |  NOUN\n",
      "data  |  NOUN\n",
      "job  |  NOUN\n"
     ]
    }
   ],
   "source": [
    "# que (A)   --Extract all NOUN tokens from this story. You will have to read the file in python first to \n",
    "#                 collect all the text and then extract NOUNs in a python list\n",
    "NOUN=[]\n",
    "for token in doc:\n",
    "    if token.pos_ in ['NOUN']:\n",
    "        print(token,\" | \",token.pos_)"
   ]
  },
  {
   "cell_type": "code",
   "execution_count": null,
   "id": "fb48fc8b",
   "metadata": {},
   "outputs": [],
   "source": []
  },
  {
   "cell_type": "code",
   "execution_count": 64,
   "id": "1c7f9029",
   "metadata": {},
   "outputs": [],
   "source": [
    "# que (B)-- extract all numbers "
   ]
  },
  {
   "cell_type": "code",
   "execution_count": 65,
   "id": "9b9ff808",
   "metadata": {},
   "outputs": [
    {
     "name": "stdout",
     "output_type": "stream",
     "text": [
      "8.3  |  NUM\n",
      "8.1  |  NUM\n",
      "1982Removing  |  NUM\n",
      "6.2  |  NUM\n",
      "6  |  NUM\n",
      "0.3  |  NUM\n",
      "0.2  |  NUM\n",
      "0.6  |  NUM\n",
      "0.4  |  NUM\n",
      "0.1  |  NUM\n",
      "0.3  |  NUM\n",
      "2.6  |  NUM\n",
      "5.5%.Inflation  |  NUM\n",
      "2021  |  NUM\n",
      "1984  |  NUM\n",
      "one  |  NUM\n",
      "two  |  NUM\n",
      "two  |  NUM\n",
      "2  |  NUM\n"
     ]
    }
   ],
   "source": [
    "for token in doc:\n",
    "    if token.pos_ in ['NUM']:\n",
    "        print(token,\" | \",token.pos_)"
   ]
  },
  {
   "cell_type": "code",
   "execution_count": 66,
   "id": "30548753",
   "metadata": {},
   "outputs": [],
   "source": [
    "# que (C)-- Print a count of all POS tags in this story"
   ]
  },
  {
   "cell_type": "code",
   "execution_count": 67,
   "id": "bdd60401",
   "metadata": {},
   "outputs": [
    {
     "data": {
      "text/plain": [
       "{92: 93,\n",
       " 100: 26,\n",
       " 86: 15,\n",
       " 85: 39,\n",
       " 96: 16,\n",
       " 97: 28,\n",
       " 90: 33,\n",
       " 95: 4,\n",
       " 87: 13,\n",
       " 89: 10,\n",
       " 84: 23,\n",
       " 93: 19,\n",
       " 94: 4,\n",
       " 98: 8}"
      ]
     },
     "execution_count": 67,
     "metadata": {},
     "output_type": "execute_result"
    }
   ],
   "source": [
    "count=doc.count_by(spacy.attrs.POS)\n",
    "count"
   ]
  },
  {
   "cell_type": "code",
   "execution_count": 68,
   "id": "de0d0b8d",
   "metadata": {},
   "outputs": [
    {
     "data": {
      "text/plain": [
       "dict_items([(92, 93), (100, 26), (86, 15), (85, 39), (96, 16), (97, 28), (90, 33), (95, 4), (87, 13), (89, 10), (84, 23), (93, 19), (94, 4), (98, 8)])"
      ]
     },
     "execution_count": 68,
     "metadata": {},
     "output_type": "execute_result"
    }
   ],
   "source": [
    "y=count.items()\n",
    "y"
   ]
  },
  {
   "cell_type": "code",
   "execution_count": 69,
   "id": "b01d0eeb",
   "metadata": {},
   "outputs": [
    {
     "name": "stdout",
     "output_type": "stream",
     "text": [
      "NOUN  |  93\n",
      "VERB  |  26\n",
      "ADV  |  15\n",
      "ADP  |  39\n",
      "PROPN  |  16\n",
      "PUNCT  |  28\n",
      "DET  |  33\n",
      "PRON  |  4\n",
      "AUX  |  13\n",
      "CCONJ  |  10\n",
      "ADJ  |  23\n",
      "NUM  |  19\n",
      "PART  |  4\n",
      "SCONJ  |  8\n"
     ]
    }
   ],
   "source": [
    "for k,v in y:\n",
    "    print(doc.vocab[k].text,\" | \",v)"
   ]
  },
  {
   "cell_type": "code",
   "execution_count": null,
   "id": "6ae6a1c0",
   "metadata": {},
   "outputs": [],
   "source": []
  }
 ],
 "metadata": {
  "kernelspec": {
   "display_name": "Python 3 (ipykernel)",
   "language": "python",
   "name": "python3"
  },
  "language_info": {
   "codemirror_mode": {
    "name": "ipython",
    "version": 3
   },
   "file_extension": ".py",
   "mimetype": "text/x-python",
   "name": "python",
   "nbconvert_exporter": "python",
   "pygments_lexer": "ipython3",
   "version": "3.9.13"
  }
 },
 "nbformat": 4,
 "nbformat_minor": 5
}
