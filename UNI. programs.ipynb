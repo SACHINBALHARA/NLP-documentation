{
 "cells": [
  {
   "cell_type": "markdown",
   "id": "8152f15b-e946-42c6-9ce8-882bcd5a8348",
   "metadata": {},
   "source": [
    "# 1. Program for Inflectional and Derivational Morphology Analysis\n",
    " Write a program to implement a Python program that distinguishes\n",
    "between inflectional and derivational morphemes, analyzing word\n",
    "forms for morphological changes."
   ]
  },
  {
   "cell_type": "code",
   "execution_count": 1,
   "id": "9b87a7eb-bfb2-46d9-ace1-1fd155d0c798",
   "metadata": {},
   "outputs": [
    {
     "name": "stderr",
     "output_type": "stream",
     "text": [
      "[nltk_data] Downloading package wordnet to\n",
      "[nltk_data]     C:\\Users\\SACHIN\\AppData\\Roaming\\nltk_data...\n"
     ]
    },
    {
     "name": "stdout",
     "output_type": "stream",
     "text": [
      "Word: running -> No obvious morpheme change detected\n",
      "Word: happiness -> Derivational Morpheme (Suffix)\n",
      "Word: unhappy -> Derivational Morpheme (Prefix)\n",
      "Word: dogs -> Inflectional Morpheme\n",
      "Word: player -> Inflectional Morpheme\n",
      "Word: quickly -> Derivational Morpheme (Suffix)\n"
     ]
    }
   ],
   "source": [
    "import nltk\n",
    "from nltk.stem import WordNetLemmatizer, PorterStemmer\n",
    "\n",
    "# Download required NLTK data\n",
    "nltk.download('wordnet')\n",
    "\n",
    "# Initialize lemmatizer and stemmer\n",
    "lemmatizer = WordNetLemmatizer()\n",
    "stemmer = PorterStemmer()\n",
    "\n",
    "# Inflectional morphemes\n",
    "inflectional_morphemes = ['s', 'es', 'ing', 'ed', 'er', 'est']\n",
    "\n",
    "# Derivational morphemes (common prefixes and suffixes in English)\n",
    "derivational_prefixes = ['un', 'dis', 're', 'in', 'im', 'ir', 'il']\n",
    "derivational_suffixes = ['ly', 'ness', 'ful', 'ment', 'ation', 'ize', 'ify', 'ship', 'ous']\n",
    "\n",
    "def analyze_morphology(word):\n",
    "    # Lemma and stem of the word\n",
    "    lemma = lemmatizer.lemmatize(word)\n",
    "    stem = stemmer.stem(word)\n",
    "    \n",
    "    # Check for inflectional morphemes by comparing stem and lemma\n",
    "    if word.endswith(tuple(inflectional_morphemes)) and stem == lemma:\n",
    "        return 'Inflectional Morpheme'\n",
    "    \n",
    "    # Check for derivational morphemes by checking prefixes and suffixes\n",
    "    for prefix in derivational_prefixes:\n",
    "        if word.startswith(prefix):\n",
    "            return 'Derivational Morpheme (Prefix)'\n",
    "\n",
    "    for suffix in derivational_suffixes:\n",
    "        if word.endswith(suffix):\n",
    "            return 'Derivational Morpheme (Suffix)'\n",
    "\n",
    "    return 'No obvious morpheme change detected'\n",
    "\n",
    "# Example words to test\n",
    "words = ['running', 'happiness', 'unhappy', 'dogs', 'player', 'quickly']\n",
    "\n",
    "# Analyze the words\n",
    "for word in words:\n",
    "    result = analyze_morphology(word)\n",
    "    print(f\"Word: {word} -> {result}\")\n"
   ]
  },
  {
   "cell_type": "markdown",
   "id": "b105abba-1c09-488a-819b-a3eaec8574df",
   "metadata": {},
   "source": [
    "# 2. Program for Finite-State Morphological Parsing\n",
    "Write a program to develop a finite-state transducer (FST) in Python\n",
    "for morphological parsing, enabling the recognition and processing of\n",
    "morphological patterns in words."
   ]
  },
  {
   "cell_type": "code",
   "execution_count": 2,
   "id": "7d38d8c8-3d5e-4174-9d3c-955663f313d3",
   "metadata": {},
   "outputs": [
    {
     "name": "stdout",
     "output_type": "stream",
     "text": [
      "Word: dogs -> Unable to parse the word using the FST.\n",
      "Word: played -> Unable to parse the word using the FST.\n",
      "Word: running -> Unable to parse the word using the FST.\n",
      "Word: talking -> Unable to parse the word using the FST.\n"
     ]
    }
   ],
   "source": [
    "# Define a simple class to represent a finite-state transducer\n",
    "class FST:\n",
    "    def __init__(self):\n",
    "        # States of the FST\n",
    "        self.states = ['q0', 'q1', 'q2']\n",
    "        # Initial state\n",
    "        self.initial_state = 'q0'\n",
    "        # Accept state\n",
    "        self.accept_state = 'q2'\n",
    "        # Transitions dictionary: (current_state, input) -> (next_state, output)\n",
    "        self.transitions = {}\n",
    "        self.base_word = ''\n",
    "    \n",
    "    def add_transition(self, current_state, input_symbol, next_state, output_symbol):\n",
    "        # Define transitions between states with input and output symbols\n",
    "        self.transitions[(current_state, input_symbol)] = (next_state, output_symbol)\n",
    "    \n",
    "    def parse(self, word):\n",
    "        current_state = self.initial_state\n",
    "        output = ''\n",
    "        index = 0\n",
    "        word_len = len(word)\n",
    "        self.base_word = word\n",
    "        \n",
    "        # Processing input symbols (characters from the word)\n",
    "        while index < word_len:\n",
    "            char = word[index]\n",
    "            \n",
    "            # Check if there's a valid transition for the current character\n",
    "            if (current_state, char) in self.transitions:\n",
    "                next_state, output_symbol = self.transitions[(current_state, char)]\n",
    "                current_state = next_state\n",
    "                output += output_symbol\n",
    "                index += 1\n",
    "            else:\n",
    "                break\n",
    "        \n",
    "        # Return the base form and the morphological output\n",
    "        if current_state == self.accept_state:\n",
    "            return f\"Base Word: {self.base_word[:index]} | Morphological Info: {output}\"\n",
    "        else:\n",
    "            return \"Unable to parse the word using the FST.\"\n",
    "    \n",
    "# Define the FST for basic morphological parsing\n",
    "def build_fst():\n",
    "    fst = FST()\n",
    "    \n",
    "    # Transitions for plural '-s' (q0 -> q1)\n",
    "    fst.add_transition('q0', 's', 'q2', '[PLURAL]')\n",
    "    \n",
    "    # Transitions for past tense '-ed' (q0 -> q1 -> q2)\n",
    "    fst.add_transition('q0', 'e', 'q1', '')\n",
    "    fst.add_transition('q1', 'd', 'q2', '[PAST]')\n",
    "    \n",
    "    # Transitions for progressive '-ing' (q0 -> q1 -> q2 -> q3)\n",
    "    fst.add_transition('q0', 'i', 'q1', '')\n",
    "    fst.add_transition('q1', 'n', 'q2', '')\n",
    "    fst.add_transition('q2', 'g', 'q2', '[PROGRESSIVE]')\n",
    "    \n",
    "    return fst\n",
    "\n",
    "# Test cases for parsing\n",
    "def test_fst():\n",
    "    fst = build_fst()\n",
    "    \n",
    "    words = ['dogs', 'played', 'running', 'talking']\n",
    "    \n",
    "    for word in words:\n",
    "        result = fst.parse(word)\n",
    "        print(f\"Word: {word} -> {result}\")\n",
    "\n",
    "# Run the FST parser on example words\n",
    "test_fst()\n"
   ]
  },
  {
   "cell_type": "code",
   "execution_count": null,
   "id": "657384b5-283a-4b7b-8dcc-906d1c790351",
   "metadata": {},
   "outputs": [],
   "source": []
  }
 ],
 "metadata": {
  "kernelspec": {
   "display_name": "Python 3 (ipykernel)",
   "language": "python",
   "name": "python3"
  },
  "language_info": {
   "codemirror_mode": {
    "name": "ipython",
    "version": 3
   },
   "file_extension": ".py",
   "mimetype": "text/x-python",
   "name": "python",
   "nbconvert_exporter": "python",
   "pygments_lexer": "ipython3",
   "version": "3.12.1"
  }
 },
 "nbformat": 4,
 "nbformat_minor": 5
}
