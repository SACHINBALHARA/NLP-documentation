{
 "cells": [
  {
   "cell_type": "markdown",
   "id": "e514e61b",
   "metadata": {},
   "source": [
    "# regex --\n",
    "A RegEx, or Regular Expression, is a sequence of characters that forms a search pattern.\n",
    "\n",
    "RegEx can be used to check if a string contains the specified search pattern.\n",
    "\n",
    "Python has a built-in package called re, which can be used to work with Regular Expressions.\n",
    "\n",
    "Import the re module:"
   ]
  },
  {
   "cell_type": "code",
   "execution_count": 2,
   "id": "81c3f637",
   "metadata": {},
   "outputs": [],
   "source": [
    "import re"
   ]
  },
  {
   "cell_type": "code",
   "execution_count": 5,
   "id": "6449fe6a",
   "metadata": {},
   "outputs": [],
   "source": [
    "# Search the string to see if it starts with \"The\" and ends with \"Spain\":\n",
    "\n",
    "txt=\"the rain in spain\"\n",
    "x = re.search(\"^the.*spain$\",txt)\n"
   ]
  },
  {
   "cell_type": "code",
   "execution_count": 6,
   "id": "0c45a0a7",
   "metadata": {},
   "outputs": [
    {
     "data": {
      "text/plain": [
       "<re.Match object; span=(0, 17), match='the rain in spain'>"
      ]
     },
     "execution_count": 6,
     "metadata": {},
     "output_type": "execute_result"
    }
   ],
   "source": [
    "x"
   ]
  },
  {
   "cell_type": "code",
   "execution_count": 11,
   "id": "96a3ea52",
   "metadata": {},
   "outputs": [
    {
     "name": "stdout",
     "output_type": "stream",
     "text": [
      "yes we have match\n"
     ]
    }
   ],
   "source": [
    "if x:\n",
    "    print(\"yes we have match\")\n",
    "else:\n",
    "    print(\"no we don't have match\")"
   ]
  },
  {
   "cell_type": "raw",
   "id": "7465c0dd",
   "metadata": {},
   "source": [
    "# Regex function\n",
    "\n",
    "\n",
    "@Function          Description\n",
    "\n",
    "findall           Returns a list containing all matches\n",
    "search            Returns a Match object if there is a match anywhere in the string\n",
    "split             Returns a list where the string has been split at each match\n",
    "sub               Replaces one or many matches with a string"
   ]
  },
  {
   "cell_type": "code",
   "execution_count": 4,
   "id": "ed5d7a0a",
   "metadata": {},
   "outputs": [],
   "source": [
    "chat1 = \"webmok: you ask a lot of questions 1234567890 , abc@123.com , 1234567899\"\n",
    "chat2 = \"webmok: here it is (123)-456-7890 , abc@123.com\"\n",
    "chat3 = \"webmok:yes ,phone: 1234567890  email:abc@123.com\""
   ]
  },
  {
   "cell_type": "code",
   "execution_count": 13,
   "id": "fb0a82ad",
   "metadata": {},
   "outputs": [
    {
     "name": "stdout",
     "output_type": "stream",
     "text": [
      "['1234567890', '1234567899']\n",
      "[]\n",
      "['1234567890']\n"
     ]
    }
   ],
   "source": [
    "pattern= \"\\d{10}\"\n",
    "x=re.findall(pattern,chat1)\n",
    "\n",
    "y=re.findall(pattern,chat2)\n",
    "\n",
    "z=re.findall(pattern,chat3)\n",
    "\n",
    "print(x)\n",
    "print(y)\n",
    "print(z)"
   ]
  },
  {
   "cell_type": "code",
   "execution_count": 23,
   "id": "a4b6179c",
   "metadata": {},
   "outputs": [
    {
     "name": "stdout",
     "output_type": "stream",
     "text": [
      "['1234567890', '1234567899']\n",
      "[]\n",
      "['1234567890']\n"
     ]
    }
   ],
   "source": [
    "pattern=\"\\d\\d\\d\\d\\d\\d\\d\\d\\d\\d\"\n",
    "x=re.findall(pattern,chat1)\n",
    "\n",
    "a=re.findall(pattern,chat2)\n",
    "\n",
    "z=re.findall(pattern,chat3)\n",
    "\n",
    "print(x)\n",
    "print(a)\n",
    "print(z)"
   ]
  },
  {
   "cell_type": "code",
   "execution_count": 27,
   "id": "862e1178",
   "metadata": {},
   "outputs": [
    {
     "name": "stdout",
     "output_type": "stream",
     "text": [
      "[]\n",
      "['(123)-456-7890']\n"
     ]
    }
   ],
   "source": [
    "# for chat 2 \n",
    "\n",
    "pattern=\"\\(\\d{3}\\)-\\d{3}-\\d{4}\"\n",
    "x=re.findall(pattern,chat2)\n",
    "y=re.findall(pattern,chat1)\n",
    "\n",
    "print(y)\n",
    "print(x)"
   ]
  },
  {
   "cell_type": "code",
   "execution_count": 28,
   "id": "a701b882",
   "metadata": {},
   "outputs": [],
   "source": [
    "# for both pattern simultaneously \n"
   ]
  },
  {
   "cell_type": "code",
   "execution_count": 5,
   "id": "67c120f1",
   "metadata": {},
   "outputs": [
    {
     "name": "stdout",
     "output_type": "stream",
     "text": [
      "['1234567890', '1234567899']\n",
      "['(123)-456-7890']\n",
      "['1234567890']\n"
     ]
    }
   ],
   "source": [
    "pattern=\"\\d{10}|\\(\\d{3}\\)-\\d{3}-\\d{4}\"\n",
    "x=re.findall(pattern,chat1)\n",
    "y=re.findall(pattern,chat2)\n",
    "z=re.findall(pattern,chat3)\n",
    "\n",
    "print(x)\n",
    "print(y)\n",
    "print(z)"
   ]
  },
  {
   "cell_type": "markdown",
   "id": "4c0a124c",
   "metadata": {},
   "source": [
    "# for email id "
   ]
  },
  {
   "cell_type": "code",
   "execution_count": 8,
   "id": "84773ff8",
   "metadata": {},
   "outputs": [],
   "source": [
    "chat1 = \"webmok: you ask a lot of questions 1234567890 , abc@123.com , 1234567899\"\n",
    "chat2 = \"webmok: here it is (123)-456-7890 , Abc@123.com\"\n",
    "chat3 = \"webmok:yes ,phone: 1234567890  email:ABC@123.com\""
   ]
  },
  {
   "cell_type": "code",
   "execution_count": 11,
   "id": "9df3a0a3",
   "metadata": {},
   "outputs": [
    {
     "name": "stdout",
     "output_type": "stream",
     "text": [
      "['abc@123.c']\n",
      "['Abc@123.c']\n",
      "['ABC@123.c']\n"
     ]
    }
   ],
   "source": [
    "pattern = '[a-z0-9A-Z_]*@[a-z0-9A-Z]*\\.[a-zA-Z]'                           # * means 1 or more character\n",
    "x=re.findall(pattern,chat1)                                                # \\n means end of line \n",
    "y=re.findall(pattern,chat2)\n",
    "z=re.findall(pattern,chat3)\n",
    "\n",
    "print(x)\n",
    "print(y)\n",
    "print(z)"
   ]
  },
  {
   "cell_type": "code",
   "execution_count": 14,
   "id": "402c6b4b",
   "metadata": {},
   "outputs": [],
   "source": [
    "chat1='hello i am having a issue with my  order 11929779'\n",
    "chat2='hello i am having a issue with my order number 13929872'\n",
    "chat3='my order number 23764873 is having a issue'\n"
   ]
  },
  {
   "cell_type": "code",
   "execution_count": 20,
   "id": "0ddb061c",
   "metadata": {},
   "outputs": [],
   "source": [
    "pattern='order[^\\d]*(\\d*)'                                                    # ^ means start of a string\n",
    "x=re.findall(pattern,chat1)                                                   # $ means end of a string \n",
    "y=re.findall(pattern,chat2)\n",
    "z=re.findall(pattern,chat3)"
   ]
  },
  {
   "cell_type": "code",
   "execution_count": 21,
   "id": "a4b72724",
   "metadata": {},
   "outputs": [
    {
     "name": "stdout",
     "output_type": "stream",
     "text": [
      "['11929779']\n",
      "['13929872']\n",
      "['23764873']\n"
     ]
    }
   ],
   "source": [
    "print(x)\n",
    "print(y)\n",
    "print(z)"
   ]
  },
  {
   "cell_type": "markdown",
   "id": "daac7250",
   "metadata": {},
   "source": [
    "# fetch textual information "
   ]
  },
  {
   "cell_type": "code",
   "execution_count": 26,
   "id": "3c8e75b8",
   "metadata": {},
   "outputs": [],
   "source": [
    "text1='''\n",
    "Born\tMukesh Dhirubhai Ambani\n",
    "19 April 1957 (age 66)\n",
    "Aden, Colony of Aden\n",
    "(present-day Yemen)[1][2]\n",
    "Nationality\tIndian\n",
    "Alma mater\t\n",
    "St. Xavier's College, Mumbai\n",
    "Institute of Chemical Technology (B.E.)\n",
    "Occupation(s)\tChairman and MD, Reliance Industries\n",
    "Spouse\tNita Ambani ​(m. 1985)​[3]\n",
    "Children\t3\n",
    "Parents\t\n",
    "Dhirubhai Ambani (father)\n",
    "Kokilaben Ambani (mother)\n",
    "Relatives\tAnil Ambani (brother)\n",
    "Tina Ambani (sister-in-law)\n",
    "'''"
   ]
  },
  {
   "cell_type": "code",
   "execution_count": 27,
   "id": "bf2f4ca7",
   "metadata": {},
   "outputs": [],
   "source": [
    "text2='''\n",
    "Born\tElon Reeve Musk\n",
    "June 28, 1971 (age 52)\n",
    "Pretoria, Transvaal, South Africa\n",
    "Education\tUniversity of Pennsylvania (BA, BS)\n",
    "Title\t\n",
    "Founder, CEO, and chief engineer of SpaceX\n",
    "CEO and product architect of Tesla, Inc.\n",
    "Owner and CTO of Twitter\n",
    "President of the Musk Foundation\n",
    "Founder of the Boring Company, X Corp., and xAI\n",
    "Co-founder of Neuralink, OpenAI, Zip2, and X.com (part of PayPal)\n",
    "Spouses\t\n",
    "Justine Wilson\n",
    "​\n",
    "​(m. 2000; div. 2008)​\n",
    "Talulah Riley\n",
    "​\n",
    "​(m. 2010; div. 2012)​\n",
    "​\n",
    "​(m. 2013; div. 2016)\n",
    "'''"
   ]
  },
  {
   "cell_type": "code",
   "execution_count": null,
   "id": "03be5e1a",
   "metadata": {},
   "outputs": [],
   "source": []
  },
  {
   "cell_type": "code",
   "execution_count": 28,
   "id": "8339624b",
   "metadata": {},
   "outputs": [],
   "source": [
    "#  fetch age "
   ]
  },
  {
   "cell_type": "code",
   "execution_count": 29,
   "id": "752aa919",
   "metadata": {},
   "outputs": [
    {
     "name": "stdout",
     "output_type": "stream",
     "text": [
      "['66']\n",
      "['52']\n"
     ]
    }
   ],
   "source": [
    "pattern='age (\\d+)'\n",
    "x=re.findall(pattern,text1)\n",
    "y=re.findall(pattern,text2)\n",
    "print(x)\n",
    "print(y)"
   ]
  },
  {
   "cell_type": "code",
   "execution_count": 30,
   "id": "bac9c46c",
   "metadata": {},
   "outputs": [],
   "source": [
    "# fetch name "
   ]
  },
  {
   "cell_type": "code",
   "execution_count": 41,
   "id": "908c59d2",
   "metadata": {},
   "outputs": [
    {
     "data": {
      "text/plain": [
       "'Mukesh Dhirubhai Ambani'"
      ]
     },
     "execution_count": 41,
     "metadata": {},
     "output_type": "execute_result"
    }
   ],
   "source": [
    "pattern='Born(.*)'\n",
    "x=re.findall(pattern,text1)\n",
    "y=re.findall(pattern,text2)\n",
    "x[0].strip()\n"
   ]
  },
  {
   "cell_type": "code",
   "execution_count": 42,
   "id": "03630bb8",
   "metadata": {},
   "outputs": [
    {
     "data": {
      "text/plain": [
       "'Elon Reeve Musk'"
      ]
     },
     "execution_count": 42,
     "metadata": {},
     "output_type": "execute_result"
    }
   ],
   "source": [
    "y[0].strip()"
   ]
  },
  {
   "cell_type": "code",
   "execution_count": 43,
   "id": "b6e904e3",
   "metadata": {},
   "outputs": [],
   "source": [
    "# we need to fetch D.O.B"
   ]
  },
  {
   "cell_type": "code",
   "execution_count": 44,
   "id": "75e06abc",
   "metadata": {},
   "outputs": [
    {
     "name": "stdout",
     "output_type": "stream",
     "text": [
      "['19 April 1957 ']\n",
      "['June 28, 1971 ']\n"
     ]
    }
   ],
   "source": [
    "pattern='Born.*\\n(.*)\\(age'                               # born.* means complete 1st line and (.*) means complete 2nd line \n",
    "x=re.findall(pattern,text1)                                   #    (age  means  before age \n",
    "y=re.findall(pattern,text2)\n",
    "print(x)\n",
    "print(y)"
   ]
  },
  {
   "cell_type": "code",
   "execution_count": null,
   "id": "0426bd2c",
   "metadata": {},
   "outputs": [],
   "source": []
  },
  {
   "cell_type": "code",
   "execution_count": 45,
   "id": "e68845a6",
   "metadata": {},
   "outputs": [],
   "source": [
    "# fetch address"
   ]
  },
  {
   "cell_type": "code",
   "execution_count": 46,
   "id": "6c3ac5b1",
   "metadata": {},
   "outputs": [
    {
     "name": "stdout",
     "output_type": "stream",
     "text": [
      "['Aden, Colony of Aden']\n",
      "['Pretoria, Transvaal, South Africa']\n"
     ]
    }
   ],
   "source": [
    "pattern='\\(age.*\\n(.*)'\n",
    "x=re.findall(pattern,text1)                                   \n",
    "y=re.findall(pattern,text2)\n",
    "print(x)\n",
    "print(y)"
   ]
  },
  {
   "cell_type": "code",
   "execution_count": null,
   "id": "c8c0888f",
   "metadata": {},
   "outputs": [],
   "source": []
  },
  {
   "cell_type": "code",
   "execution_count": 47,
   "id": "c88b8834",
   "metadata": {},
   "outputs": [],
   "source": [
    "# title of elon musk "
   ]
  },
  {
   "cell_type": "code",
   "execution_count": 57,
   "id": "b9f7c451",
   "metadata": {},
   "outputs": [
    {
     "data": {
      "text/plain": [
       "[('Founder, CEO, and chief engineer of SpaceX\\n',\n",
       "  'CEO and product architect of Tesla, Inc.\\n',\n",
       "  'Owner and CTO of Twitter\\n',\n",
       "  'President of the Musk Foundation\\n',\n",
       "  'Founder of the Boring Company, X Corp., and xAI\\n',\n",
       "  'Co-founder of Neuralink, OpenAI, Zip2, and X.com (part of PayPal)\\n')]"
      ]
     },
     "execution_count": 57,
     "metadata": {},
     "output_type": "execute_result"
    }
   ],
   "source": [
    "pattern='Title.*\\n(.*\\n)(.*\\n)(.*\\n)(.*\\n)(.*\\n)(.*\\n)'\n",
    "x=re.findall(pattern,text2)\n",
    "x"
   ]
  },
  {
   "cell_type": "code",
   "execution_count": null,
   "id": "cfc841a7",
   "metadata": {},
   "outputs": [],
   "source": []
  },
  {
   "cell_type": "raw",
   "id": "6e97458e",
   "metadata": {},
   "source": [
    "# fetch complete information in one code"
   ]
  },
  {
   "cell_type": "code",
   "execution_count": 64,
   "id": "09344d7d",
   "metadata": {},
   "outputs": [],
   "source": [
    "def get_pattern_match(pattern,text1):\n",
    "    matches=re.findall(pattern,text1)\n",
    "    if matches:\n",
    "        return matches[0]"
   ]
  },
  {
   "cell_type": "code",
   "execution_count": 67,
   "id": "863441e4",
   "metadata": {},
   "outputs": [
    {
     "data": {
      "text/plain": [
       "'Mukesh Dhirubhai Ambani'"
      ]
     },
     "execution_count": 67,
     "metadata": {},
     "output_type": "execute_result"
    }
   ],
   "source": [
    "get_pattern_match( 'Born(.*)',text1).strip()"
   ]
  },
  {
   "cell_type": "code",
   "execution_count": 69,
   "id": "607ce2ce",
   "metadata": {},
   "outputs": [
    {
     "data": {
      "text/plain": [
       "'66'"
      ]
     },
     "execution_count": 69,
     "metadata": {},
     "output_type": "execute_result"
    }
   ],
   "source": [
    "get_pattern_match( 'age (\\d+)',text1)"
   ]
  },
  {
   "cell_type": "code",
   "execution_count": null,
   "id": "a0dcb1e9",
   "metadata": {},
   "outputs": [],
   "source": []
  },
  {
   "cell_type": "code",
   "execution_count": 74,
   "id": "86f3880c",
   "metadata": {},
   "outputs": [],
   "source": [
    "def get_personal_information(text1):\n",
    "    age=get_pattern_match('age (\\d+)',text1)\n",
    "    name=get_pattern_match('Born(.*)',text1)\n",
    "    date_of_birth=get_pattern_match('Born.*\\n(.*)\\(age',text1)\n",
    "    address=get_pattern_match('\\(age.*\\n(.*)',text1)\n",
    "    return {\n",
    "        'age':int(age),\n",
    "        'name':name.strip(),\n",
    "        'date of birth':date_of_birth.strip(),\n",
    "        'address':address.strip()\n",
    "    }"
   ]
  },
  {
   "cell_type": "code",
   "execution_count": 75,
   "id": "9a736589",
   "metadata": {},
   "outputs": [
    {
     "data": {
      "text/plain": [
       "{'age': 66,\n",
       " 'name': 'Mukesh Dhirubhai Ambani',\n",
       " 'date of birth': '19 April 1957',\n",
       " 'address': 'Aden, Colony of Aden'}"
      ]
     },
     "execution_count": 75,
     "metadata": {},
     "output_type": "execute_result"
    }
   ],
   "source": [
    "get_personal_information(text1)"
   ]
  },
  {
   "cell_type": "code",
   "execution_count": 76,
   "id": "4c765fb6",
   "metadata": {},
   "outputs": [],
   "source": [
    "def get_personal_information(text2):\n",
    "    age=get_pattern_match('age (\\d+)',text2)\n",
    "    name=get_pattern_match('Born(.*)',text2)\n",
    "    date_of_birth=get_pattern_match('Born.*\\n(.*)\\(age',text2)\n",
    "    address=get_pattern_match('\\(age.*\\n(.*)',text2)\n",
    "    return {\n",
    "        'age':int(age),\n",
    "        'name':name.strip(),\n",
    "        'date of birth':date_of_birth.strip(),\n",
    "        'address':address.strip()\n",
    "    }"
   ]
  },
  {
   "cell_type": "code",
   "execution_count": 78,
   "id": "ff9584e3",
   "metadata": {},
   "outputs": [
    {
     "data": {
      "text/plain": [
       "{'age': 52,\n",
       " 'name': 'Elon Reeve Musk',\n",
       " 'date of birth': 'June 28, 1971',\n",
       " 'address': 'Pretoria, Transvaal, South Africa'}"
      ]
     },
     "execution_count": 78,
     "metadata": {},
     "output_type": "execute_result"
    }
   ],
   "source": [
    "get_personal_information(text2)"
   ]
  },
  {
   "cell_type": "code",
   "execution_count": null,
   "id": "3d1a8704",
   "metadata": {},
   "outputs": [],
   "source": []
  }
 ],
 "metadata": {
  "kernelspec": {
   "display_name": "Python 3 (ipykernel)",
   "language": "python",
   "name": "python3"
  },
  "language_info": {
   "codemirror_mode": {
    "name": "ipython",
    "version": 3
   },
   "file_extension": ".py",
   "mimetype": "text/x-python",
   "name": "python",
   "nbconvert_exporter": "python",
   "pygments_lexer": "ipython3",
   "version": "3.9.13"
  }
 },
 "nbformat": 4,
 "nbformat_minor": 5
}
